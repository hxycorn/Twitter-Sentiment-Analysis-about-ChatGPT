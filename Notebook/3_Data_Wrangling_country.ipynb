{
 "cells": [
  {
   "cell_type": "markdown",
   "metadata": {
    "id": "yXCUo5aPr3Du"
   },
   "source": [
    "# Load the packages"
   ]
  },
  {
   "cell_type": "code",
   "execution_count": 1,
   "metadata": {
    "executionInfo": {
     "elapsed": 4258,
     "status": "ok",
     "timestamp": 1677174243583,
     "user": {
      "displayName": "H H",
      "userId": "12469201729844154001"
     },
     "user_tz": 480
    },
    "id": "O06yuKkzRBYR"
   },
   "outputs": [],
   "source": [
    "import pandas as pd\n",
    "import numpy as np\n",
    "import matplotlib.pyplot as plt\n",
    "import seaborn as sns\n",
    "import ast\n",
    "from tqdm import tqdm\n",
    "%matplotlib inline\n",
    "sns.set(font_scale=1.5, style = 'whitegrid', color_codes=True)\n",
    "import time\n",
    "import os\n",
    "import pickle\n",
    "import concurrent.futures\n",
    "from geopy.geocoders import Nominatim"
   ]
  },
  {
   "cell_type": "code",
   "execution_count": 2,
   "metadata": {
    "colab": {
     "base_uri": "https://localhost:8080/"
    },
    "executionInfo": {
     "elapsed": 18674,
     "status": "ok",
     "timestamp": 1677174265838,
     "user": {
      "displayName": "H H",
      "userId": "12469201729844154001"
     },
     "user_tz": 480
    },
    "id": "AqqjOI5uvkdk",
    "outputId": "85f70a8d-7ed8-4b47-ef58-87dd7cfb1b79"
   },
   "outputs": [
    {
     "name": "stdout",
     "output_type": "stream",
     "text": [
      "Mounted at /content/drive\n"
     ]
    }
   ],
   "source": [
    "from google.colab import drive\n",
    "\n",
    "drive.mount('/content/drive')"
   ]
  },
  {
   "cell_type": "code",
   "execution_count": 6,
   "metadata": {
    "executionInfo": {
     "elapsed": 172,
     "status": "ok",
     "timestamp": 1677131765711,
     "user": {
      "displayName": "H H",
      "userId": "12469201729844154001"
     },
     "user_tz": 480
    },
    "id": "4z-Rosyvv-eP"
   },
   "outputs": [],
   "source": [
    "cache_path = ('/content/drive/My Drive/Colab Notebooks/CHATGPT/geocode_cache.pickle')\n",
    "file_path = ('/content/drive/My Drive/Colab Notebooks/CHATGPT/Twitter_EDA.csv')"
   ]
  },
  {
   "cell_type": "code",
   "execution_count": 5,
   "metadata": {
    "executionInfo": {
     "elapsed": 16147,
     "status": "ok",
     "timestamp": 1677088990754,
     "user": {
      "displayName": "H H",
      "userId": "12469201729844154001"
     },
     "user_tz": 480
    },
    "id": "6PZuLpYaYztM"
   },
   "outputs": [],
   "source": [
    "df = pd.read_csv(file_path)"
   ]
  },
  {
   "cell_type": "code",
   "execution_count": 6,
   "metadata": {
    "colab": {
     "base_uri": "https://localhost:8080/"
    },
    "executionInfo": {
     "elapsed": 836,
     "status": "ok",
     "timestamp": 1677088994456,
     "user": {
      "displayName": "H H",
      "userId": "12469201729844154001"
     },
     "user_tz": 480
    },
    "id": "xcN_Ll3qr-rp",
    "outputId": "5071ba51-642f-4736-86ef-82bbdbe237fb"
   },
   "outputs": [
    {
     "name": "stdout",
     "output_type": "stream",
     "text": [
      "<class 'pandas.core.frame.DataFrame'>\n",
      "RangeIndex: 1255501 entries, 0 to 1255500\n",
      "Data columns (total 9 columns):\n",
      " #   Column           Non-Null Count    Dtype  \n",
      "---  ------           --------------    -----  \n",
      " 0   UserId           1255501 non-null  float64\n",
      " 1   UserName         1255501 non-null  object \n",
      " 2   Verified         1255501 non-null  bool   \n",
      " 3   Location         896371 non-null   object \n",
      " 4   Followers        1255501 non-null  float64\n",
      " 5   Tweet            1255501 non-null  object \n",
      " 6   Language         1255501 non-null  object \n",
      " 7   Date             1255501 non-null  object \n",
      " 8   Time_of_the_day  1255501 non-null  object \n",
      "dtypes: bool(1), float64(2), object(6)\n",
      "memory usage: 77.8+ MB\n"
     ]
    }
   ],
   "source": [
    "df.info()"
   ]
  },
  {
   "cell_type": "code",
   "execution_count": 7,
   "metadata": {
    "colab": {
     "base_uri": "https://localhost:8080/"
    },
    "executionInfo": {
     "elapsed": 6,
     "status": "ok",
     "timestamp": 1677088995610,
     "user": {
      "displayName": "H H",
      "userId": "12469201729844154001"
     },
     "user_tz": 480
    },
    "id": "y0NlK_QvsKSk",
    "outputId": "2f4cc96a-a936-41e4-cd0d-4e82cc2a6c90"
   },
   "outputs": [
    {
     "data": {
      "text/plain": [
       "(1255501, 9)"
      ]
     },
     "execution_count": 7,
     "metadata": {},
     "output_type": "execute_result"
    }
   ],
   "source": [
    "df.shape"
   ]
  },
  {
   "cell_type": "markdown",
   "metadata": {
    "id": "rWnbtWB6sOl0"
   },
   "source": [
    "# **Data Wrangling and EDA**"
   ]
  },
  {
   "cell_type": "markdown",
   "metadata": {
    "id": "l1W-LPtysSrU"
   },
   "source": [
    "## **Get country information from the location column**"
   ]
  },
  {
   "cell_type": "code",
   "execution_count": 8,
   "metadata": {
    "executionInfo": {
     "elapsed": 542,
     "status": "ok",
     "timestamp": 1677089000416,
     "user": {
      "displayName": "H H",
      "userId": "12469201729844154001"
     },
     "user_tz": 480
    },
    "id": "1PdXQ_vHdw7b"
   },
   "outputs": [],
   "source": [
    "# fill the na in Location column with \"Unknown\"\n",
    "df['Location'].fillna(value='Unknown',inplace=True)\n",
    "\n",
    "# Assign unkown location's country to \"Unknonwn\"\n",
    "df.loc[df['Location']=='Unknown','Country'] = 'Unknown'"
   ]
  },
  {
   "cell_type": "code",
   "execution_count": 9,
   "metadata": {
    "executionInfo": {
     "elapsed": 1108,
     "status": "ok",
     "timestamp": 1677089001523,
     "user": {
      "displayName": "H H",
      "userId": "12469201729844154001"
     },
     "user_tz": 480
    },
    "id": "STqp5WFNn_-i"
   },
   "outputs": [],
   "source": [
    "df_country = df[df['Country']!='Unknown'].copy()   #get rows with valid location and needs to find the country"
   ]
  },
  {
   "cell_type": "code",
   "execution_count": 10,
   "metadata": {
    "colab": {
     "base_uri": "https://localhost:8080/"
    },
    "executionInfo": {
     "elapsed": 6,
     "status": "ok",
     "timestamp": 1677089002052,
     "user": {
      "displayName": "H H",
      "userId": "12469201729844154001"
     },
     "user_tz": 480
    },
    "id": "z_18TFT6oIzM",
    "outputId": "ceb167b5-d56f-4388-afc7-45c2a1fdae77"
   },
   "outputs": [
    {
     "data": {
      "text/plain": [
       "(896309, 10)"
      ]
     },
     "execution_count": 10,
     "metadata": {},
     "output_type": "execute_result"
    }
   ],
   "source": [
    "df_country.shape "
   ]
  },
  {
   "cell_type": "code",
   "execution_count": 11,
   "metadata": {
    "colab": {
     "base_uri": "https://localhost:8080/"
    },
    "executionInfo": {
     "elapsed": 137,
     "status": "ok",
     "timestamp": 1677089003314,
     "user": {
      "displayName": "H H",
      "userId": "12469201729844154001"
     },
     "user_tz": 480
    },
    "id": "7NOkD6lroxqE",
    "outputId": "48b25eb9-1bc3-4799-c5e0-2aa7f3e62117"
   },
   "outputs": [
    {
     "data": {
      "text/plain": [
       "Series([], Name: Country, dtype: int64)"
      ]
     },
     "execution_count": 11,
     "metadata": {},
     "output_type": "execute_result"
    }
   ],
   "source": [
    "df_country.Country.value_counts()"
   ]
  },
  {
   "cell_type": "markdown",
   "metadata": {
    "id": "IAV1vXs_sl4_"
   },
   "source": [
    "The geocode progress can be a very slow process, showed an estimate of over 1hour for processing 10000 items. To improve the speed of process:\n",
    "\n",
    "\n",
    "- cache the results\n",
    "- batch process\n",
    "- parallel processing"
   ]
  },
  {
   "cell_type": "code",
   "execution_count": 24,
   "metadata": {
    "colab": {
     "base_uri": "https://localhost:8080/"
    },
    "executionInfo": {
     "elapsed": 701,
     "status": "ok",
     "timestamp": 1677175099120,
     "user": {
      "displayName": "H H",
      "userId": "12469201729844154001"
     },
     "user_tz": 480
    },
    "id": "Gynov7mKYrXj",
    "outputId": "a2025b98-2af7-4ba2-bbf3-1762e37e4e52"
   },
   "outputs": [
    {
     "name": "stdout",
     "output_type": "stream",
     "text": [
      "32588\n"
     ]
    }
   ],
   "source": [
    "#create a geolocation object\n",
    "locator = Nominatim(user_agent = 'myGeocoder22')\n",
    "\n",
    "#load or create cache for geocode results\n",
    "cache_path = ('/content/drive/My Drive/Colab Notebooks/CHATGPT/geocode_cache.pickle')\n",
    "if os.path.exists(cache_path):\n",
    "    with open(cache_path, 'rb') as f:\n",
    "        geocode_cache = pickle.load(f)\n",
    "else:\n",
    "    geocode_cache = {}\n",
    "    geocode_cache['Unknown'] = 'Unknown'\n",
    "\n",
    "print(len(geocode_cache))"
   ]
  },
  {
   "cell_type": "code",
   "execution_count": 8,
   "metadata": {
    "executionInfo": {
     "elapsed": 160,
     "status": "ok",
     "timestamp": 1677131810156,
     "user": {
      "displayName": "H H",
      "userId": "12469201729844154001"
     },
     "user_tz": 480
    },
    "id": "PAopuWFpYxmy"
   },
   "outputs": [],
   "source": [
    "# define a function to extract the country fromm the location column\n",
    "def get_country(location):\n",
    "    # check if geocode result is in cache\n",
    "      if location in geocode_cache:\n",
    "          return geocode_cache[location]\n",
    "      else:\n",
    "          try:\n",
    "              loc = locator.geocode(location)\n",
    "              if loc:\n",
    "                  country = loc.raw['display_name'].split(',')[-1].strip()\n",
    "                  # Add location to cache if not in cache\n",
    "                  geocode_cache[location] = country\n",
    "                  return country\n",
    "              else:\n",
    "                  return \"Unknown\"\n",
    "          except:\n",
    "              return \"Unknown\""
   ]
  },
  {
   "cell_type": "code",
   "execution_count": 10,
   "metadata": {
    "executionInfo": {
     "elapsed": 165,
     "status": "ok",
     "timestamp": 1677131814821,
     "user": {
      "displayName": "H H",
      "userId": "12469201729844154001"
     },
     "user_tz": 480
    },
    "id": "1rXmC8JFY8IR"
   },
   "outputs": [],
   "source": [
    "#define a function to process locations in batches using parallel processing\n",
    "def process_locations(df, max_workers, batch_size=100):\n",
    "    locations = df['Location'].to_list()\n",
    "    n = len(locations)\n",
    "    country_list = ['Unknown']*n\n",
    "    \n",
    "    #split the locations into batches (tuples, with start index)\n",
    "    batches = [(i, locations[i:i+batch_size]) for i in range(0, n, batch_size)]\n",
    "    \n",
    "    #process each batch in parallel\n",
    "    with concurrent.futures.ThreadPoolExecutor(max_workers = max_workers) as executor:\n",
    "        future_to_batch = {executor.submit(process_batch, idx, batch):batch for idx, batch in batches}\n",
    "        for future in tqdm(concurrent.futures.as_completed(future_to_batch), total=len(future_to_batch)):\n",
    "            start_index, batch_result = future.result()\n",
    "            for i, country in enumerate(batch_result):\n",
    "                idx = i + start_index\n",
    "                if idx <n:\n",
    "                    country_list[idx] = country\n",
    "    #store the geocode cache to file\n",
    "    with open(cache_path, 'wb') as f:\n",
    "        pickle.dump(geocode_cache, f)\n",
    "    \n",
    "    return country_list\n"
   ]
  },
  {
   "cell_type": "code",
   "execution_count": 11,
   "metadata": {
    "executionInfo": {
     "elapsed": 1,
     "status": "ok",
     "timestamp": 1677131816112,
     "user": {
      "displayName": "H H",
      "userId": "12469201729844154001"
     },
     "user_tz": 480
    },
    "id": "oo4tCNvyY_mh"
   },
   "outputs": [],
   "source": [
    "#define a function to process a single batch of locations\n",
    "def process_batch(start_idx, batch):\n",
    "    batch_result = [get_country(location) for location in batch]\n",
    "    return start_idx, batch_result"
   ]
  },
  {
   "cell_type": "code",
   "execution_count": 16,
   "metadata": {
    "colab": {
     "base_uri": "https://localhost:8080/"
    },
    "executionInfo": {
     "elapsed": 136,
     "status": "ok",
     "timestamp": 1677089087018,
     "user": {
      "displayName": "H H",
      "userId": "12469201729844154001"
     },
     "user_tz": 480
    },
    "id": "clAER60xkpne",
    "outputId": "e5a8f98f-0c13-49cc-fe91-32ccb65c1e98"
   },
   "outputs": [
    {
     "data": {
      "text/plain": [
       "(Series([], Name: Country, dtype: int64), 2354)"
      ]
     },
     "execution_count": 16,
     "metadata": {},
     "output_type": "execute_result"
    }
   ],
   "source": [
    "df_1 = df_country.loc[0:10000,:].copy()\n",
    "df_1['Country'].value_counts(), len(geocode_cache)"
   ]
  },
  {
   "cell_type": "code",
   "execution_count": 17,
   "metadata": {
    "colab": {
     "base_uri": "https://localhost:8080/"
    },
    "executionInfo": {
     "elapsed": 237636,
     "status": "ok",
     "timestamp": 1677089328632,
     "user": {
      "displayName": "H H",
      "userId": "12469201729844154001"
     },
     "user_tz": 480
    },
    "id": "KEDmejchZA3S",
    "outputId": "3e6cfcc3-02b1-4f35-c61c-54766e3398e2"
   },
   "outputs": [
    {
     "name": "stderr",
     "output_type": "stream",
     "text": [
      "100%|██████████| 73/73 [03:57<00:00,  3.25s/it]\n"
     ]
    }
   ],
   "source": [
    "df_1['Country'] = process_locations(df_1, max_workers=10)"
   ]
  },
  {
   "cell_type": "code",
   "execution_count": 18,
   "metadata": {
    "colab": {
     "base_uri": "https://localhost:8080/"
    },
    "executionInfo": {
     "elapsed": 206,
     "status": "ok",
     "timestamp": 1677089331868,
     "user": {
      "displayName": "H H",
      "userId": "12469201729844154001"
     },
     "user_tz": 480
    },
    "id": "E8mb3ntndjHO",
    "outputId": "9e4c922a-ed57-42ae-a5bc-57edc40fc8ef"
   },
   "outputs": [
    {
     "name": "stdout",
     "output_type": "stream",
     "text": [
      "unknown rate = 30.66%\n"
     ]
    }
   ],
   "source": [
    "print(f\"unknown rate = {(df_1['Country']=='Unknown').sum()/df_1.shape[0]*100:.2f}%\")"
   ]
  },
  {
   "cell_type": "code",
   "execution_count": 19,
   "metadata": {
    "executionInfo": {
     "elapsed": 146,
     "status": "ok",
     "timestamp": 1677089335961,
     "user": {
      "displayName": "H H",
      "userId": "12469201729844154001"
     },
     "user_tz": 480
    },
    "id": "wej3bwnDsOur"
   },
   "outputs": [],
   "source": [
    "df_country.loc[0:10000, 'Country'] = df_1['Country']"
   ]
  },
  {
   "cell_type": "code",
   "execution_count": 20,
   "metadata": {
    "colab": {
     "base_uri": "https://localhost:8080/"
    },
    "executionInfo": {
     "elapsed": 127,
     "status": "ok",
     "timestamp": 1677089340527,
     "user": {
      "displayName": "H H",
      "userId": "12469201729844154001"
     },
     "user_tz": 480
    },
    "id": "4dxHcYI7z4wG",
    "outputId": "4cd93ab0-f498-4d14-d61f-0a229de82de9"
   },
   "outputs": [
    {
     "data": {
      "text/plain": [
       "(Unknown    1\n",
       " Name: Country, dtype: int64, 2459)"
      ]
     },
     "execution_count": 20,
     "metadata": {},
     "output_type": "execute_result"
    }
   ],
   "source": [
    "df_2 = df_country.loc[10000:20000,:].copy()\n",
    "df_2['Country'].value_counts(), len(geocode_cache)"
   ]
  },
  {
   "cell_type": "code",
   "execution_count": 21,
   "metadata": {
    "colab": {
     "base_uri": "https://localhost:8080/"
    },
    "executionInfo": {
     "elapsed": 269001,
     "status": "ok",
     "timestamp": 1677089635811,
     "user": {
      "displayName": "H H",
      "userId": "12469201729844154001"
     },
     "user_tz": 480
    },
    "id": "tptblLb9l1x_",
    "outputId": "cb36c822-ff0e-482e-e175-8b6810f139ce"
   },
   "outputs": [
    {
     "name": "stderr",
     "output_type": "stream",
     "text": [
      "100%|██████████| 72/72 [04:28<00:00,  3.73s/it]\n"
     ]
    }
   ],
   "source": [
    "df_2['Country'] = process_locations(df_2, max_workers=10)"
   ]
  },
  {
   "cell_type": "code",
   "execution_count": 22,
   "metadata": {
    "colab": {
     "base_uri": "https://localhost:8080/"
    },
    "executionInfo": {
     "elapsed": 163,
     "status": "ok",
     "timestamp": 1677089639360,
     "user": {
      "displayName": "H H",
      "userId": "12469201729844154001"
     },
     "user_tz": 480
    },
    "id": "wD5ksxLA00Ck",
    "outputId": "79e42580-43d3-46ca-87a3-a6cdca30bb18"
   },
   "outputs": [
    {
     "name": "stdout",
     "output_type": "stream",
     "text": [
      "Unknown: 2485, Total: 7148, Unknown rate: 34.76%\n"
     ]
    }
   ],
   "source": [
    "unknown = (df_2['Country']=='Unknown').sum()\n",
    "total = df_2.shape[0]\n",
    "unknown_rate = round(unknown/total*100,2)\n",
    "print(f\"Unknown: {unknown}, Total: {total}, Unknown rate: {unknown_rate}%\")"
   ]
  },
  {
   "cell_type": "code",
   "execution_count": 23,
   "metadata": {
    "executionInfo": {
     "elapsed": 150,
     "status": "ok",
     "timestamp": 1677089642207,
     "user": {
      "displayName": "H H",
      "userId": "12469201729844154001"
     },
     "user_tz": 480
    },
    "id": "1UksCxrDjJ8H"
   },
   "outputs": [],
   "source": [
    "df_country.loc[10000:20000, 'Country'] = df_2['Country']"
   ]
  },
  {
   "cell_type": "code",
   "execution_count": 24,
   "metadata": {
    "colab": {
     "base_uri": "https://localhost:8080/"
    },
    "executionInfo": {
     "elapsed": 165,
     "status": "ok",
     "timestamp": 1677089643444,
     "user": {
      "displayName": "H H",
      "userId": "12469201729844154001"
     },
     "user_tz": 480
    },
    "id": "OKIbS7s11wjv",
    "outputId": "fd8533e2-3232-4fce-d6c2-356d4df745b0"
   },
   "outputs": [
    {
     "data": {
      "text/plain": [
       "(Unknown    1\n",
       " Name: Country, dtype: int64, 2481)"
      ]
     },
     "execution_count": 24,
     "metadata": {},
     "output_type": "execute_result"
    }
   ],
   "source": [
    "df_3 = df_country.loc[20000:30000,:].copy()\n",
    "df_3['Country'].value_counts(), len(geocode_cache)"
   ]
  },
  {
   "cell_type": "code",
   "execution_count": 25,
   "metadata": {
    "colab": {
     "base_uri": "https://localhost:8080/"
    },
    "executionInfo": {
     "elapsed": 303371,
     "status": "ok",
     "timestamp": 1677089952525,
     "user": {
      "displayName": "H H",
      "userId": "12469201729844154001"
     },
     "user_tz": 480
    },
    "id": "r7LcVTdw0ylF",
    "outputId": "43103beb-0f0c-4123-b650-74299821b6ab"
   },
   "outputs": [
    {
     "name": "stderr",
     "output_type": "stream",
     "text": [
      "100%|██████████| 72/72 [05:03<00:00,  4.21s/it]\n"
     ]
    }
   ],
   "source": [
    "df_3['Country'] = process_locations(df_3, max_workers=10)"
   ]
  },
  {
   "cell_type": "code",
   "execution_count": 26,
   "metadata": {
    "colab": {
     "base_uri": "https://localhost:8080/"
    },
    "executionInfo": {
     "elapsed": 156,
     "status": "ok",
     "timestamp": 1677089957106,
     "user": {
      "displayName": "H H",
      "userId": "12469201729844154001"
     },
     "user_tz": 480
    },
    "id": "j0lpGDg1lk4T",
    "outputId": "db046d1f-78ff-4bbb-ca8e-638c917c061a"
   },
   "outputs": [
    {
     "name": "stdout",
     "output_type": "stream",
     "text": [
      "Unknown: 2674, Total: 7187, Unknown rate: 37.21%\n"
     ]
    }
   ],
   "source": [
    "unknown = (df_3['Country']=='Unknown').sum()\n",
    "total = df_3.shape[0]\n",
    "unknown_rate = round(unknown/total*100,2)\n",
    "print(f\"Unknown: {unknown}, Total: {total}, Unknown rate: {unknown_rate}%\")"
   ]
  },
  {
   "cell_type": "code",
   "execution_count": 27,
   "metadata": {
    "executionInfo": {
     "elapsed": 206,
     "status": "ok",
     "timestamp": 1677089962673,
     "user": {
      "displayName": "H H",
      "userId": "12469201729844154001"
     },
     "user_tz": 480
    },
    "id": "LKvOO5Pb2f98"
   },
   "outputs": [],
   "source": [
    "df_country.loc[20000:30000, 'Country'] = df_3['Country']"
   ]
  },
  {
   "cell_type": "code",
   "execution_count": 28,
   "metadata": {
    "executionInfo": {
     "elapsed": 13945,
     "status": "ok",
     "timestamp": 1677090011072,
     "user": {
      "displayName": "H H",
      "userId": "12469201729844154001"
     },
     "user_tz": 480
    },
    "id": "Smeedncv22OK"
   },
   "outputs": [],
   "source": [
    "df_country.to_csv('/content/drive/My Drive/Colab Notebooks/CHATGPT/Twitter_EDA_country.csv')"
   ]
  },
  {
   "cell_type": "code",
   "execution_count": 29,
   "metadata": {
    "colab": {
     "base_uri": "https://localhost:8080/"
    },
    "executionInfo": {
     "elapsed": 141,
     "status": "ok",
     "timestamp": 1677090024636,
     "user": {
      "displayName": "H H",
      "userId": "12469201729844154001"
     },
     "user_tz": 480
    },
    "id": "qieiCnnC5ZkF",
    "outputId": "e0df2842-40a7-4498-8db9-d433a71f3522"
   },
   "outputs": [
    {
     "data": {
      "text/plain": [
       "(Series([], Name: Country, dtype: int64), 2702)"
      ]
     },
     "execution_count": 29,
     "metadata": {},
     "output_type": "execute_result"
    }
   ],
   "source": [
    "df_4 = df_country.loc[30000:50000,:].copy()\n",
    "df_4['Country'].value_counts(), len(geocode_cache)"
   ]
  },
  {
   "cell_type": "code",
   "execution_count": 30,
   "metadata": {
    "colab": {
     "base_uri": "https://localhost:8080/"
    },
    "executionInfo": {
     "elapsed": 663674,
     "status": "ok",
     "timestamp": 1677090715826,
     "user": {
      "displayName": "H H",
      "userId": "12469201729844154001"
     },
     "user_tz": 480
    },
    "id": "d3z62qHI5mfM",
    "outputId": "3ae67671-ed91-4704-9620-ccdfb6320c22"
   },
   "outputs": [
    {
     "name": "stderr",
     "output_type": "stream",
     "text": [
      "100%|██████████| 141/141 [11:03<00:00,  4.71s/it]\n"
     ]
    }
   ],
   "source": [
    "df_4['Country'] = process_locations(df_4, max_workers=10)"
   ]
  },
  {
   "cell_type": "code",
   "execution_count": 31,
   "metadata": {
    "colab": {
     "base_uri": "https://localhost:8080/"
    },
    "executionInfo": {
     "elapsed": 171,
     "status": "ok",
     "timestamp": 1677090719652,
     "user": {
      "displayName": "H H",
      "userId": "12469201729844154001"
     },
     "user_tz": 480
    },
    "id": "7dMhPKtS6OXo",
    "outputId": "607e9a26-6c6f-4c02-e7f6-85bc3a768476"
   },
   "outputs": [
    {
     "name": "stdout",
     "output_type": "stream",
     "text": [
      "Unknown: 6190, Total: 14048, Unknown rate: 44.06%\n"
     ]
    }
   ],
   "source": [
    "unknown = (df_4['Country']=='Unknown').sum()\n",
    "total = df_4.shape[0]\n",
    "unknown_rate = round(unknown/total*100,2)\n",
    "print(f\"Unknown: {unknown}, Total: {total}, Unknown rate: {unknown_rate}%\")"
   ]
  },
  {
   "cell_type": "code",
   "execution_count": 32,
   "metadata": {
    "executionInfo": {
     "elapsed": 217,
     "status": "ok",
     "timestamp": 1677090731394,
     "user": {
      "displayName": "H H",
      "userId": "12469201729844154001"
     },
     "user_tz": 480
    },
    "id": "rfMJ8_Yn6Saw"
   },
   "outputs": [],
   "source": [
    "df_country.loc[30000:50000, 'Country'] = df_4['Country']"
   ]
  },
  {
   "cell_type": "code",
   "execution_count": 33,
   "metadata": {
    "colab": {
     "base_uri": "https://localhost:8080/"
    },
    "executionInfo": {
     "elapsed": 10,
     "status": "ok",
     "timestamp": 1677090734697,
     "user": {
      "displayName": "H H",
      "userId": "12469201729844154001"
     },
     "user_tz": 480
    },
    "id": "VGXNDZFFZHYH",
    "outputId": "7984982f-4d28-4977-a62e-b15d07304da3"
   },
   "outputs": [
    {
     "data": {
      "text/plain": [
       "(Unknown    1\n",
       " Name: Country, dtype: int64, 3306)"
      ]
     },
     "execution_count": 33,
     "metadata": {},
     "output_type": "execute_result"
    }
   ],
   "source": [
    "df_5 = df_country.loc[50000:80000,:].copy()\n",
    "df_5['Country'].value_counts(), len(geocode_cache)"
   ]
  },
  {
   "cell_type": "code",
   "execution_count": 34,
   "metadata": {
    "colab": {
     "base_uri": "https://localhost:8080/"
    },
    "executionInfo": {
     "elapsed": 1040288,
     "status": "ok",
     "timestamp": 1677091780270,
     "user": {
      "displayName": "H H",
      "userId": "12469201729844154001"
     },
     "user_tz": 480
    },
    "id": "_gR3cejAZNv7",
    "outputId": "1b9eddad-b652-4e93-8759-4381f792495f"
   },
   "outputs": [
    {
     "name": "stderr",
     "output_type": "stream",
     "text": [
      "100%|██████████| 210/210 [17:20<00:00,  4.95s/it]\n"
     ]
    }
   ],
   "source": [
    "df_5['Country'] = process_locations(df_5, max_workers=10)"
   ]
  },
  {
   "cell_type": "code",
   "execution_count": 35,
   "metadata": {
    "colab": {
     "base_uri": "https://localhost:8080/"
    },
    "executionInfo": {
     "elapsed": 284,
     "status": "ok",
     "timestamp": 1677091782859,
     "user": {
      "displayName": "H H",
      "userId": "12469201729844154001"
     },
     "user_tz": 480
    },
    "id": "jz_NDDQFZRCZ",
    "outputId": "25f3e091-8405-477a-877d-c7cd58169f49"
   },
   "outputs": [
    {
     "name": "stdout",
     "output_type": "stream",
     "text": [
      "Unknown: 9848, Total: 20981, Unknown rate: 46.94%\n"
     ]
    }
   ],
   "source": [
    "unknown = (df_5['Country']=='Unknown').sum()\n",
    "total = df_5.shape[0]\n",
    "unknown_rate = round(unknown/total*100,2)\n",
    "print(f\"Unknown: {unknown}, Total: {total}, Unknown rate: {unknown_rate}%\")"
   ]
  },
  {
   "cell_type": "code",
   "execution_count": 36,
   "metadata": {
    "executionInfo": {
     "elapsed": 663,
     "status": "ok",
     "timestamp": 1677091787228,
     "user": {
      "displayName": "H H",
      "userId": "12469201729844154001"
     },
     "user_tz": 480
    },
    "id": "0TVkNz4cdHxF"
   },
   "outputs": [],
   "source": [
    "df_country.loc[50000:80000, 'Country'] = df_5['Country']"
   ]
  },
  {
   "cell_type": "code",
   "execution_count": 37,
   "metadata": {
    "colab": {
     "base_uri": "https://localhost:8080/"
    },
    "executionInfo": {
     "elapsed": 9,
     "status": "ok",
     "timestamp": 1677091814655,
     "user": {
      "displayName": "H H",
      "userId": "12469201729844154001"
     },
     "user_tz": 480
    },
    "id": "O0AQcCoFdc2V",
    "outputId": "90152c7b-eee2-4581-a8ce-5ba4d72fb2ee"
   },
   "outputs": [
    {
     "data": {
      "text/plain": [
       "(France    1\n",
       " Name: Country, dtype: int64, 4079)"
      ]
     },
     "execution_count": 37,
     "metadata": {},
     "output_type": "execute_result"
    }
   ],
   "source": [
    "df_6 = df_country.loc[80000:100000,:].copy()\n",
    "df_6['Country'].value_counts(), len(geocode_cache)"
   ]
  },
  {
   "cell_type": "code",
   "execution_count": 38,
   "metadata": {
    "colab": {
     "base_uri": "https://localhost:8080/"
    },
    "executionInfo": {
     "elapsed": 670518,
     "status": "ok",
     "timestamp": 1677092509170,
     "user": {
      "displayName": "H H",
      "userId": "12469201729844154001"
     },
     "user_tz": 480
    },
    "id": "mpT2D5BHdjpm",
    "outputId": "aafcac84-48fd-45a0-d5c6-1d7b167245c5"
   },
   "outputs": [
    {
     "name": "stderr",
     "output_type": "stream",
     "text": [
      "100%|██████████| 137/137 [11:10<00:00,  4.89s/it]\n"
     ]
    }
   ],
   "source": [
    "df_6['Country'] = process_locations(df_6, max_workers=10)"
   ]
  },
  {
   "cell_type": "code",
   "execution_count": 39,
   "metadata": {
    "colab": {
     "base_uri": "https://localhost:8080/"
    },
    "executionInfo": {
     "elapsed": 9,
     "status": "ok",
     "timestamp": 1677092509970,
     "user": {
      "displayName": "H H",
      "userId": "12469201729844154001"
     },
     "user_tz": 480
    },
    "id": "Mm-yytV0dpi_",
    "outputId": "4d24b578-03b2-426d-f51a-a9e96c4f6f48"
   },
   "outputs": [
    {
     "name": "stdout",
     "output_type": "stream",
     "text": [
      "Unknown: 6477, Total: 13639, Unknown rate: 47.49%\n"
     ]
    }
   ],
   "source": [
    "unknown = (df_6['Country']=='Unknown').sum()\n",
    "total = df_6.shape[0]\n",
    "unknown_rate = round(unknown/total*100,2)\n",
    "print(f\"Unknown: {unknown}, Total: {total}, Unknown rate: {unknown_rate}%\")"
   ]
  },
  {
   "cell_type": "code",
   "execution_count": 40,
   "metadata": {
    "executionInfo": {
     "elapsed": 142,
     "status": "ok",
     "timestamp": 1677092581746,
     "user": {
      "displayName": "H H",
      "userId": "12469201729844154001"
     },
     "user_tz": 480
    },
    "id": "1COg4UTSdwjl"
   },
   "outputs": [],
   "source": [
    "df_country.loc[80000:100000, 'Country'] = df_6['Country']"
   ]
  },
  {
   "cell_type": "code",
   "execution_count": 41,
   "metadata": {
    "colab": {
     "base_uri": "https://localhost:8080/"
    },
    "executionInfo": {
     "elapsed": 137,
     "status": "ok",
     "timestamp": 1677092659350,
     "user": {
      "displayName": "H H",
      "userId": "12469201729844154001"
     },
     "user_tz": 480
    },
    "id": "Gi9OT6fbge8N",
    "outputId": "4fb2a6ed-0542-423e-a45e-b45c05ab3b30"
   },
   "outputs": [
    {
     "data": {
      "text/plain": [
       "(Schweiz/Suisse/Svizzera/Svizra    1\n",
       " Name: Country, dtype: int64, 4297)"
      ]
     },
     "execution_count": 41,
     "metadata": {},
     "output_type": "execute_result"
    }
   ],
   "source": [
    "df_7 = df_country.loc[100000:150000,:].copy()\n",
    "df_7['Country'].value_counts(), len(geocode_cache)"
   ]
  },
  {
   "cell_type": "code",
   "execution_count": 42,
   "metadata": {
    "colab": {
     "base_uri": "https://localhost:8080/"
    },
    "executionInfo": {
     "elapsed": 1730255,
     "status": "ok",
     "timestamp": 1677094444174,
     "user": {
      "displayName": "H H",
      "userId": "12469201729844154001"
     },
     "user_tz": 480
    },
    "id": "crwtlUt0gx5Y",
    "outputId": "869e0213-b611-42d5-899a-1c4425535c94"
   },
   "outputs": [
    {
     "name": "stderr",
     "output_type": "stream",
     "text": [
      "100%|██████████| 351/351 [28:48<00:00,  4.92s/it]\n"
     ]
    }
   ],
   "source": [
    "df_7['Country'] = process_locations(df_7, max_workers=10)"
   ]
  },
  {
   "cell_type": "code",
   "execution_count": 43,
   "metadata": {
    "colab": {
     "base_uri": "https://localhost:8080/"
    },
    "executionInfo": {
     "elapsed": 188,
     "status": "ok",
     "timestamp": 1677094453455,
     "user": {
      "displayName": "H H",
      "userId": "12469201729844154001"
     },
     "user_tz": 480
    },
    "id": "KDuzrHgng_PX",
    "outputId": "46f1a82e-740f-40c0-bcd2-90cc74d4b21a"
   },
   "outputs": [
    {
     "name": "stdout",
     "output_type": "stream",
     "text": [
      "Unknown: 16768, Total: 35078, Unknown rate: 47.8%\n"
     ]
    }
   ],
   "source": [
    "unknown = (df_7['Country']=='Unknown').sum()\n",
    "total = df_7.shape[0]\n",
    "unknown_rate = round(unknown/total*100,2)\n",
    "print(f\"Unknown: {unknown}, Total: {total}, Unknown rate: {unknown_rate}%\")"
   ]
  },
  {
   "cell_type": "code",
   "execution_count": 44,
   "metadata": {
    "executionInfo": {
     "elapsed": 141,
     "status": "ok",
     "timestamp": 1677094462557,
     "user": {
      "displayName": "H H",
      "userId": "12469201729844154001"
     },
     "user_tz": 480
    },
    "id": "cD-8FhZDm_Ky"
   },
   "outputs": [],
   "source": [
    "df_country.loc[100000:150000, 'Country'] = df_7['Country']"
   ]
  },
  {
   "cell_type": "code",
   "execution_count": 53,
   "metadata": {
    "executionInfo": {
     "elapsed": 308,
     "status": "ok",
     "timestamp": 1677094808170,
     "user": {
      "displayName": "H H",
      "userId": "12469201729844154001"
     },
     "user_tz": 480
    },
    "id": "pBxp7kEdo1yn"
   },
   "outputs": [],
   "source": [
    "df_country_2 = df_country[['UserName', 'Location', 'Country']].copy()"
   ]
  },
  {
   "cell_type": "code",
   "execution_count": 55,
   "metadata": {
    "executionInfo": {
     "elapsed": 2503,
     "status": "ok",
     "timestamp": 1677094865438,
     "user": {
      "displayName": "H H",
      "userId": "12469201729844154001"
     },
     "user_tz": 480
    },
    "id": "nUAvlMvunmDb"
   },
   "outputs": [],
   "source": [
    "df_country_2.to_csv('/content/drive/My Drive/Colab Notebooks/CHATGPT/Twitter_EDA_country_sim.csv')"
   ]
  },
  {
   "cell_type": "code",
   "execution_count": 56,
   "metadata": {
    "colab": {
     "base_uri": "https://localhost:8080/"
    },
    "executionInfo": {
     "elapsed": 283,
     "status": "ok",
     "timestamp": 1677094941070,
     "user": {
      "displayName": "H H",
      "userId": "12469201729844154001"
     },
     "user_tz": 480
    },
    "id": "H2XVpZkjpYS2",
    "outputId": "d6c30094-bd66-474b-a335-f5823bba1b9d"
   },
   "outputs": [
    {
     "data": {
      "text/plain": [
       "(Unknown    1\n",
       " Name: Country, dtype: int64, 5466)"
      ]
     },
     "execution_count": 56,
     "metadata": {},
     "output_type": "execute_result"
    }
   ],
   "source": [
    "df_8 = df_country_2.loc[150000:200000,:].copy()\n",
    "df_8['Country'].value_counts(), len(geocode_cache)"
   ]
  },
  {
   "cell_type": "code",
   "execution_count": 57,
   "metadata": {
    "colab": {
     "base_uri": "https://localhost:8080/"
    },
    "executionInfo": {
     "elapsed": 1476133,
     "status": "ok",
     "timestamp": 1677096446395,
     "user": {
      "displayName": "H H",
      "userId": "12469201729844154001"
     },
     "user_tz": 480
    },
    "id": "6sKItyyZpe5W",
    "outputId": "17d4b954-3ea9-4c49-84ce-65e7286e60c2"
   },
   "outputs": [
    {
     "name": "stderr",
     "output_type": "stream",
     "text": [
      "100%|██████████| 358/358 [24:35<00:00,  4.12s/it]\n"
     ]
    }
   ],
   "source": [
    "df_8['Country'] = process_locations(df_8, max_workers=10)"
   ]
  },
  {
   "cell_type": "code",
   "execution_count": 58,
   "metadata": {
    "colab": {
     "base_uri": "https://localhost:8080/"
    },
    "executionInfo": {
     "elapsed": 146,
     "status": "ok",
     "timestamp": 1677096480883,
     "user": {
      "displayName": "H H",
      "userId": "12469201729844154001"
     },
     "user_tz": 480
    },
    "id": "cMwf1fUhpmGR",
    "outputId": "fb8e909e-54fb-489e-8b9c-feb498a27f6a"
   },
   "outputs": [
    {
     "name": "stdout",
     "output_type": "stream",
     "text": [
      "Unknown: 14225, Total: 35798, Unknown rate: 39.74%\n"
     ]
    }
   ],
   "source": [
    "unknown = (df_8['Country']=='Unknown').sum()\n",
    "total = df_8.shape[0]\n",
    "unknown_rate = round(unknown/total*100,2)\n",
    "print(f\"Unknown: {unknown}, Total: {total}, Unknown rate: {unknown_rate}%\")"
   ]
  },
  {
   "cell_type": "code",
   "execution_count": 59,
   "metadata": {
    "executionInfo": {
     "elapsed": 131,
     "status": "ok",
     "timestamp": 1677096525565,
     "user": {
      "displayName": "H H",
      "userId": "12469201729844154001"
     },
     "user_tz": 480
    },
    "id": "MepSMe29vX8v"
   },
   "outputs": [],
   "source": [
    "df_country_2.loc[150000:200000, 'Country'] = df_8['Country']"
   ]
  },
  {
   "cell_type": "code",
   "execution_count": 60,
   "metadata": {
    "colab": {
     "base_uri": "https://localhost:8080/"
    },
    "executionInfo": {
     "elapsed": 159,
     "status": "ok",
     "timestamp": 1677096558065,
     "user": {
      "displayName": "H H",
      "userId": "12469201729844154001"
     },
     "user_tz": 480
    },
    "id": "nlgq8lYxviec",
    "outputId": "b57a85c9-1d21-4fd6-d004-be71b4e7d50d"
   },
   "outputs": [
    {
     "data": {
      "text/plain": [
       "(Series([], Name: Country, dtype: int64), 6612)"
      ]
     },
     "execution_count": 60,
     "metadata": {},
     "output_type": "execute_result"
    }
   ],
   "source": [
    "df_9 = df_country_2.loc[200000:300000,:].copy()\n",
    "df_9['Country'].value_counts(), len(geocode_cache)"
   ]
  },
  {
   "cell_type": "code",
   "execution_count": 68,
   "metadata": {
    "colab": {
     "base_uri": "https://localhost:8080/"
    },
    "executionInfo": {
     "elapsed": 2649916,
     "status": "ok",
     "timestamp": 1677099381509,
     "user": {
      "displayName": "H H",
      "userId": "12469201729844154001"
     },
     "user_tz": 480
    },
    "id": "4Pr3LtT6wKA0",
    "outputId": "e1385d0a-8e1f-4248-db71-fe8bc62da6fe"
   },
   "outputs": [
    {
     "name": "stderr",
     "output_type": "stream",
     "text": [
      "100%|██████████| 716/716 [44:09<00:00,  3.70s/it]\n"
     ]
    }
   ],
   "source": [
    "df_9['Country'] = process_locations(df_9, max_workers=10)"
   ]
  },
  {
   "cell_type": "code",
   "execution_count": 69,
   "metadata": {
    "colab": {
     "base_uri": "https://localhost:8080/"
    },
    "executionInfo": {
     "elapsed": 10,
     "status": "ok",
     "timestamp": 1677099381928,
     "user": {
      "displayName": "H H",
      "userId": "12469201729844154001"
     },
     "user_tz": 480
    },
    "id": "B9LkqALMwWYo",
    "outputId": "b5e82e98-63b7-4073-8feb-247d41cc6a11"
   },
   "outputs": [
    {
     "name": "stdout",
     "output_type": "stream",
     "text": [
      "Unknown: 25003, Total: 71522, Unknown rate: 34.96%\n"
     ]
    }
   ],
   "source": [
    "unknown = (df_9['Country']=='Unknown').sum()\n",
    "total = df_9.shape[0]\n",
    "unknown_rate = round(unknown/total*100,2)\n",
    "print(f\"Unknown: {unknown}, Total: {total}, Unknown rate: {unknown_rate}%\")"
   ]
  },
  {
   "cell_type": "code",
   "execution_count": 70,
   "metadata": {
    "executionInfo": {
     "elapsed": 249,
     "status": "ok",
     "timestamp": 1677099382170,
     "user": {
      "displayName": "H H",
      "userId": "12469201729844154001"
     },
     "user_tz": 480
    },
    "id": "E9-TMDD5wY1g"
   },
   "outputs": [],
   "source": [
    "df_country_2.loc[200000:300000, 'Country'] = df_9['Country']"
   ]
  },
  {
   "cell_type": "code",
   "execution_count": 71,
   "metadata": {
    "executionInfo": {
     "elapsed": 2292,
     "status": "ok",
     "timestamp": 1677099384461,
     "user": {
      "displayName": "H H",
      "userId": "12469201729844154001"
     },
     "user_tz": 480
    },
    "id": "R3l6o5I4wfG3"
   },
   "outputs": [],
   "source": [
    "df_country_2.to_csv('/content/drive/My Drive/Colab Notebooks/CHATGPT/Twitter_EDA_country_sim.csv')"
   ]
  },
  {
   "cell_type": "code",
   "execution_count": 72,
   "metadata": {
    "colab": {
     "base_uri": "https://localhost:8080/"
    },
    "executionInfo": {
     "elapsed": 186,
     "status": "ok",
     "timestamp": 1677099464287,
     "user": {
      "displayName": "H H",
      "userId": "12469201729844154001"
     },
     "user_tz": 480
    },
    "id": "wOfnxNQ06q0v",
    "outputId": "c1c3fede-78fa-4379-a38f-e1ebee1dda75"
   },
   "outputs": [
    {
     "data": {
      "text/plain": [
       "(Series([], Name: Country, dtype: int64), 9185)"
      ]
     },
     "execution_count": 72,
     "metadata": {},
     "output_type": "execute_result"
    }
   ],
   "source": [
    "df_10 = df_country_2.loc[300000:400000,:].copy()\n",
    "df_10['Country'].value_counts(), len(geocode_cache)"
   ]
  },
  {
   "cell_type": "code",
   "execution_count": 73,
   "metadata": {
    "colab": {
     "base_uri": "https://localhost:8080/"
    },
    "executionInfo": {
     "elapsed": 2511935,
     "status": "ok",
     "timestamp": 1677101993644,
     "user": {
      "displayName": "H H",
      "userId": "12469201729844154001"
     },
     "user_tz": 480
    },
    "id": "24ge73IN6w3b",
    "outputId": "fae2d89d-22bf-4eff-dc23-5c3131f5a560"
   },
   "outputs": [
    {
     "name": "stderr",
     "output_type": "stream",
     "text": [
      "100%|██████████| 710/710 [41:51<00:00,  3.54s/it]\n"
     ]
    }
   ],
   "source": [
    "df_10['Country'] = process_locations(df_10, max_workers=10)"
   ]
  },
  {
   "cell_type": "code",
   "execution_count": 74,
   "metadata": {
    "colab": {
     "base_uri": "https://localhost:8080/"
    },
    "executionInfo": {
     "elapsed": 147,
     "status": "ok",
     "timestamp": 1677101994411,
     "user": {
      "displayName": "H H",
      "userId": "12469201729844154001"
     },
     "user_tz": 480
    },
    "id": "79LfzwkeDwGS",
    "outputId": "0bcab04f-c1ad-467e-d2bd-0399017d4145"
   },
   "outputs": [
    {
     "name": "stdout",
     "output_type": "stream",
     "text": [
      "Unknown: 23785, Total: 70977, Unknown rate: 33.51%\n"
     ]
    }
   ],
   "source": [
    "unknown = (df_10['Country']=='Unknown').sum()\n",
    "total = df_10.shape[0]\n",
    "unknown_rate = round(unknown/total*100,2)\n",
    "print(f\"Unknown: {unknown}, Total: {total}, Unknown rate: {unknown_rate}%\")"
   ]
  },
  {
   "cell_type": "code",
   "execution_count": 75,
   "metadata": {
    "executionInfo": {
     "elapsed": 142,
     "status": "ok",
     "timestamp": 1677101997517,
     "user": {
      "displayName": "H H",
      "userId": "12469201729844154001"
     },
     "user_tz": 480
    },
    "id": "OcDjqvDrDym2"
   },
   "outputs": [],
   "source": [
    "df_country_2.loc[300000:400000, 'Country'] = df_10['Country']"
   ]
  },
  {
   "cell_type": "code",
   "execution_count": 93,
   "metadata": {
    "executionInfo": {
     "elapsed": 5293,
     "status": "ok",
     "timestamp": 1677111222522,
     "user": {
      "displayName": "H H",
      "userId": "12469201729844154001"
     },
     "user_tz": 480
    },
    "id": "Ix2QxApKD3f4"
   },
   "outputs": [],
   "source": [
    "df_country_2.to_csv('/content/drive/My Drive/Colab Notebooks/CHATGPT/Twitter_EDA_country_sim.csv')"
   ]
  },
  {
   "cell_type": "code",
   "execution_count": 77,
   "metadata": {
    "colab": {
     "base_uri": "https://localhost:8080/"
    },
    "executionInfo": {
     "elapsed": 147,
     "status": "ok",
     "timestamp": 1677102012328,
     "user": {
      "displayName": "H H",
      "userId": "12469201729844154001"
     },
     "user_tz": 480
    },
    "id": "lGiWXbbbECIY",
    "outputId": "36ada70e-e816-41da-b161-054cf648e51f"
   },
   "outputs": [
    {
     "data": {
      "text/plain": [
       "(Series([], Name: Country, dtype: int64), 11295)"
      ]
     },
     "execution_count": 77,
     "metadata": {},
     "output_type": "execute_result"
    }
   ],
   "source": [
    "df_temp = df_country_2.loc[400000:500000,:].copy()\n",
    "df_temp['Country'].value_counts(), len(geocode_cache)"
   ]
  },
  {
   "cell_type": "code",
   "execution_count": 79,
   "metadata": {
    "colab": {
     "base_uri": "https://localhost:8080/"
    },
    "executionInfo": {
     "elapsed": 2396772,
     "status": "ok",
     "timestamp": 1677104426070,
     "user": {
      "displayName": "H H",
      "userId": "12469201729844154001"
     },
     "user_tz": 480
    },
    "id": "yC60kUo4EMtG",
    "outputId": "14ac30bb-0fd9-4a53-854f-7677dc2cd2ca"
   },
   "outputs": [
    {
     "name": "stderr",
     "output_type": "stream",
     "text": [
      "100%|██████████| 718/718 [39:56<00:00,  3.34s/it]\n"
     ]
    }
   ],
   "source": [
    "df_temp['Country'] = process_locations(df_temp, max_workers=10)"
   ]
  },
  {
   "cell_type": "code",
   "execution_count": 80,
   "metadata": {
    "colab": {
     "base_uri": "https://localhost:8080/"
    },
    "executionInfo": {
     "elapsed": 198,
     "status": "ok",
     "timestamp": 1677104767159,
     "user": {
      "displayName": "H H",
      "userId": "12469201729844154001"
     },
     "user_tz": 480
    },
    "id": "1bi7DitRO6Gx",
    "outputId": "3f45d5f6-1587-45be-f192-acb57f355b53"
   },
   "outputs": [
    {
     "name": "stdout",
     "output_type": "stream",
     "text": [
      "Unknown: 23526, Total: 71782, Unknown rate: 32.77%\n"
     ]
    }
   ],
   "source": [
    "unknown = (df_temp['Country']=='Unknown').sum()\n",
    "total = df_temp.shape[0]\n",
    "unknown_rate = round(unknown/total*100,2)\n",
    "print(f\"Unknown: {unknown}, Total: {total}, Unknown rate: {unknown_rate}%\")"
   ]
  },
  {
   "cell_type": "code",
   "execution_count": 81,
   "metadata": {
    "executionInfo": {
     "elapsed": 193,
     "status": "ok",
     "timestamp": 1677104795021,
     "user": {
      "displayName": "H H",
      "userId": "12469201729844154001"
     },
     "user_tz": 480
    },
    "id": "4mzYFpsGO_lT"
   },
   "outputs": [],
   "source": [
    "df_country_2.loc[400000:500000, 'Country'] = df_temp['Country']"
   ]
  },
  {
   "cell_type": "code",
   "execution_count": 85,
   "metadata": {
    "colab": {
     "base_uri": "https://localhost:8080/"
    },
    "executionInfo": {
     "elapsed": 128,
     "status": "ok",
     "timestamp": 1677104912017,
     "user": {
      "displayName": "H H",
      "userId": "12469201729844154001"
     },
     "user_tz": 480
    },
    "id": "BcNMKT5WPFkY",
    "outputId": "a9f0c342-d461-4184-ee2b-6a4b458e29ee"
   },
   "outputs": [
    {
     "data": {
      "text/plain": [
       "(Unknown    1\n",
       " Name: Country, dtype: int64, 13310)"
      ]
     },
     "execution_count": 85,
     "metadata": {},
     "output_type": "execute_result"
    }
   ],
   "source": [
    "df_temp = df_country_2.loc[500000:600000,:].copy()\n",
    "df_temp['Country'].value_counts(), len(geocode_cache)"
   ]
  },
  {
   "cell_type": "code",
   "execution_count": 86,
   "metadata": {
    "colab": {
     "base_uri": "https://localhost:8080/"
    },
    "executionInfo": {
     "elapsed": 2230688,
     "status": "ok",
     "timestamp": 1677107153398,
     "user": {
      "displayName": "H H",
      "userId": "12469201729844154001"
     },
     "user_tz": 480
    },
    "id": "kysRf3o8Pjb0",
    "outputId": "68554050-3382-40b4-d46c-9f7adb29a56f"
   },
   "outputs": [
    {
     "name": "stderr",
     "output_type": "stream",
     "text": [
      "100%|██████████| 723/723 [37:10<00:00,  3.09s/it]\n"
     ]
    }
   ],
   "source": [
    "df_temp['Country'] = process_locations(df_temp, max_workers=10)"
   ]
  },
  {
   "cell_type": "code",
   "execution_count": 87,
   "metadata": {
    "colab": {
     "base_uri": "https://localhost:8080/"
    },
    "executionInfo": {
     "elapsed": 167,
     "status": "ok",
     "timestamp": 1677108562697,
     "user": {
      "displayName": "H H",
      "userId": "12469201729844154001"
     },
     "user_tz": 480
    },
    "id": "r_lWGaQtdaON",
    "outputId": "1b10e9f4-2e15-4c74-feaa-60d357cf96ca"
   },
   "outputs": [
    {
     "name": "stdout",
     "output_type": "stream",
     "text": [
      "Unknown: 21432, Total: 72223, Unknown rate: 29.67%\n"
     ]
    }
   ],
   "source": [
    "unknown = (df_temp['Country']=='Unknown').sum()\n",
    "total = df_temp.shape[0]\n",
    "unknown_rate = round(unknown/total*100,2)\n",
    "print(f\"Unknown: {unknown}, Total: {total}, Unknown rate: {unknown_rate}%\")"
   ]
  },
  {
   "cell_type": "code",
   "execution_count": 88,
   "metadata": {
    "executionInfo": {
     "elapsed": 142,
     "status": "ok",
     "timestamp": 1677108586856,
     "user": {
      "displayName": "H H",
      "userId": "12469201729844154001"
     },
     "user_tz": 480
    },
    "id": "D1mm6knIde2n"
   },
   "outputs": [],
   "source": [
    "df_country_2.loc[500000:600000, 'Country'] = df_temp['Country']"
   ]
  },
  {
   "cell_type": "code",
   "execution_count": 89,
   "metadata": {
    "colab": {
     "base_uri": "https://localhost:8080/"
    },
    "executionInfo": {
     "elapsed": 139,
     "status": "ok",
     "timestamp": 1677108605983,
     "user": {
      "displayName": "H H",
      "userId": "12469201729844154001"
     },
     "user_tz": 480
    },
    "id": "eOQ5D7Y-djbP",
    "outputId": "502ed27b-e65b-4f0b-8818-277ffd629df5"
   },
   "outputs": [
    {
     "data": {
      "text/plain": [
       "(Series([], Name: Country, dtype: int64), 15136)"
      ]
     },
     "execution_count": 89,
     "metadata": {},
     "output_type": "execute_result"
    }
   ],
   "source": [
    "df_temp = df_country_2.loc[600000:700000,:].copy()\n",
    "df_temp['Country'].value_counts(), len(geocode_cache)"
   ]
  },
  {
   "cell_type": "code",
   "execution_count": 90,
   "metadata": {
    "colab": {
     "base_uri": "https://localhost:8080/"
    },
    "executionInfo": {
     "elapsed": 2106686,
     "status": "ok",
     "timestamp": 1677110724683,
     "user": {
      "displayName": "H H",
      "userId": "12469201729844154001"
     },
     "user_tz": 480
    },
    "id": "wYkuG2oTdog5",
    "outputId": "d0f94223-f34a-47d1-8c3d-fa4c93d4c195"
   },
   "outputs": [
    {
     "name": "stderr",
     "output_type": "stream",
     "text": [
      "100%|██████████| 698/698 [35:05<00:00,  3.02s/it]\n"
     ]
    }
   ],
   "source": [
    "df_temp['Country'] = process_locations(df_temp, max_workers=10)"
   ]
  },
  {
   "cell_type": "code",
   "execution_count": 91,
   "metadata": {
    "colab": {
     "base_uri": "https://localhost:8080/"
    },
    "executionInfo": {
     "elapsed": 176,
     "status": "ok",
     "timestamp": 1677111161398,
     "user": {
      "displayName": "H H",
      "userId": "12469201729844154001"
     },
     "user_tz": 480
    },
    "id": "fzta-eEqnUlv",
    "outputId": "32cde1b0-f74e-4d8a-a61d-3ca1a1f4f546"
   },
   "outputs": [
    {
     "name": "stdout",
     "output_type": "stream",
     "text": [
      "Unknown: 20307, Total: 69776, Unknown rate: 29.1%\n"
     ]
    }
   ],
   "source": [
    "unknown = (df_temp['Country']=='Unknown').sum()\n",
    "total = df_temp.shape[0]\n",
    "unknown_rate = round(unknown/total*100,2)\n",
    "print(f\"Unknown: {unknown}, Total: {total}, Unknown rate: {unknown_rate}%\")"
   ]
  },
  {
   "cell_type": "code",
   "execution_count": 92,
   "metadata": {
    "executionInfo": {
     "elapsed": 141,
     "status": "ok",
     "timestamp": 1677111202184,
     "user": {
      "displayName": "H H",
      "userId": "12469201729844154001"
     },
     "user_tz": 480
    },
    "id": "WWgMrJvJnX0P"
   },
   "outputs": [],
   "source": [
    "df_country_2.loc[600000:700000, 'Country'] = df_temp['Country']"
   ]
  },
  {
   "cell_type": "code",
   "execution_count": 95,
   "metadata": {
    "colab": {
     "base_uri": "https://localhost:8080/"
    },
    "executionInfo": {
     "elapsed": 137,
     "status": "ok",
     "timestamp": 1677111255906,
     "user": {
      "displayName": "H H",
      "userId": "12469201729844154001"
     },
     "user_tz": 480
    },
    "id": "amHoiLHknnV4",
    "outputId": "822d1660-7f21-4101-d701-1033f9f28a07"
   },
   "outputs": [
    {
     "data": {
      "text/plain": [
       "(Argentina    1\n",
       " Name: Country, dtype: int64, 16825)"
      ]
     },
     "execution_count": 95,
     "metadata": {},
     "output_type": "execute_result"
    }
   ],
   "source": [
    "df_temp = df_country_2.loc[700000:800000,:].copy()\n",
    "df_temp['Country'].value_counts(), len(geocode_cache)"
   ]
  },
  {
   "cell_type": "code",
   "execution_count": 98,
   "metadata": {
    "colab": {
     "base_uri": "https://localhost:8080/"
    },
    "executionInfo": {
     "elapsed": 1857158,
     "status": "ok",
     "timestamp": 1677117038472,
     "user": {
      "displayName": "H H",
      "userId": "12469201729844154001"
     },
     "user_tz": 480
    },
    "id": "mF0oaEkWnvJs",
    "outputId": "a097e3e0-86aa-443f-b10b-f10a36383cfd"
   },
   "outputs": [
    {
     "name": "stderr",
     "output_type": "stream",
     "text": [
      "100%|██████████| 708/708 [30:56<00:00,  2.62s/it]\n"
     ]
    }
   ],
   "source": [
    "df_temp['Country'] = process_locations(df_temp, max_workers=10)"
   ]
  },
  {
   "cell_type": "code",
   "execution_count": 99,
   "metadata": {
    "colab": {
     "base_uri": "https://localhost:8080/"
    },
    "executionInfo": {
     "elapsed": 148,
     "status": "ok",
     "timestamp": 1677117044145,
     "user": {
      "displayName": "H H",
      "userId": "12469201729844154001"
     },
     "user_tz": 480
    },
    "id": "eEPMutCA2z9O",
    "outputId": "d9cbf479-b2e3-49cf-e07f-e5794780b201"
   },
   "outputs": [
    {
     "name": "stdout",
     "output_type": "stream",
     "text": [
      "Unknown: 18339, Total: 70710, Unknown rate: 25.94%\n"
     ]
    }
   ],
   "source": [
    "unknown = (df_temp['Country']=='Unknown').sum()\n",
    "total = df_temp.shape[0]\n",
    "unknown_rate = round(unknown/total*100,2)\n",
    "print(f\"Unknown: {unknown}, Total: {total}, Unknown rate: {unknown_rate}%\")"
   ]
  },
  {
   "cell_type": "code",
   "execution_count": 100,
   "metadata": {
    "executionInfo": {
     "elapsed": 153,
     "status": "ok",
     "timestamp": 1677117052737,
     "user": {
      "displayName": "H H",
      "userId": "12469201729844154001"
     },
     "user_tz": 480
    },
    "id": "nQYdg9xz21ur"
   },
   "outputs": [],
   "source": [
    "df_country_2.loc[700000:800000, 'Country'] = df_temp['Country']"
   ]
  },
  {
   "cell_type": "code",
   "execution_count": 104,
   "metadata": {
    "colab": {
     "base_uri": "https://localhost:8080/"
    },
    "executionInfo": {
     "elapsed": 199,
     "status": "ok",
     "timestamp": 1677117107969,
     "user": {
      "displayName": "H H",
      "userId": "12469201729844154001"
     },
     "user_tz": 480
    },
    "id": "-2UHBqdv28u9",
    "outputId": "bf3a6690-ef5d-4378-9741-364761ae5780"
   },
   "outputs": [
    {
     "data": {
      "text/plain": [
       "(Series([], Name: Country, dtype: int64), 19505)"
      ]
     },
     "execution_count": 104,
     "metadata": {},
     "output_type": "execute_result"
    }
   ],
   "source": [
    "df_temp = df_country_2.loc[800000:1000000,:].copy()\n",
    "df_temp['Country'].value_counts(), len(geocode_cache)"
   ]
  },
  {
   "cell_type": "code",
   "execution_count": 106,
   "metadata": {
    "colab": {
     "base_uri": "https://localhost:8080/"
    },
    "executionInfo": {
     "elapsed": 4054193,
     "status": "ok",
     "timestamp": 1677121186508,
     "user": {
      "displayName": "H H",
      "userId": "12469201729844154001"
     },
     "user_tz": 480
    },
    "id": "1kFoPr1993G3",
    "outputId": "25b0fd65-1ddc-4df6-d757-dbcebfbfba97"
   },
   "outputs": [
    {
     "name": "stderr",
     "output_type": "stream",
     "text": [
      "100%|██████████| 1426/1426 [1:07:33<00:00,  2.84s/it]\n"
     ]
    }
   ],
   "source": [
    "df_temp['Country'] = process_locations(df_temp, max_workers=10)"
   ]
  },
  {
   "cell_type": "code",
   "execution_count": 107,
   "metadata": {
    "colab": {
     "base_uri": "https://localhost:8080/"
    },
    "executionInfo": {
     "elapsed": 10,
     "status": "ok",
     "timestamp": 1677121187927,
     "user": {
      "displayName": "H H",
      "userId": "12469201729844154001"
     },
     "user_tz": 480
    },
    "id": "Qw7o6DHmF5Oq",
    "outputId": "d33e20b5-f5da-4e50-a8bd-84594a4a7700"
   },
   "outputs": [
    {
     "name": "stdout",
     "output_type": "stream",
     "text": [
      "Unknown: 39672, Total: 142582, Unknown rate: 27.82%\n"
     ]
    }
   ],
   "source": [
    "unknown = (df_temp['Country']=='Unknown').sum()\n",
    "total = df_temp.shape[0]\n",
    "unknown_rate = round(unknown/total*100,2)\n",
    "print(f\"Unknown: {unknown}, Total: {total}, Unknown rate: {unknown_rate}%\")"
   ]
  },
  {
   "cell_type": "code",
   "execution_count": 108,
   "metadata": {
    "executionInfo": {
     "elapsed": 9,
     "status": "ok",
     "timestamp": 1677121187927,
     "user": {
      "displayName": "H H",
      "userId": "12469201729844154001"
     },
     "user_tz": 480
    },
    "id": "zZlCOHbHF8w0"
   },
   "outputs": [],
   "source": [
    "df_country_2.loc[800000:1000000, 'Country'] = df_temp['Country']"
   ]
  },
  {
   "cell_type": "code",
   "execution_count": 109,
   "metadata": {
    "executionInfo": {
     "elapsed": 3062,
     "status": "ok",
     "timestamp": 1677121190981,
     "user": {
      "displayName": "H H",
      "userId": "12469201729844154001"
     },
     "user_tz": 480
    },
    "id": "YG4Y5CrvGKbc"
   },
   "outputs": [],
   "source": [
    "df_country_2.to_csv('/content/drive/My Drive/Colab Notebooks/CHATGPT/Twitter_EDA_country_sim.csv')"
   ]
  },
  {
   "cell_type": "code",
   "execution_count": 111,
   "metadata": {
    "colab": {
     "base_uri": "https://localhost:8080/"
    },
    "executionInfo": {
     "elapsed": 147,
     "status": "ok",
     "timestamp": 1677121535940,
     "user": {
      "displayName": "H H",
      "userId": "12469201729844154001"
     },
     "user_tz": 480
    },
    "id": "axRgLJbBOrd_",
    "outputId": "856ed3f0-f5a0-46cf-a753-5c3c6d379809"
   },
   "outputs": [
    {
     "data": {
      "text/plain": [
       "(Series([], Name: Country, dtype: int64), 22299)"
      ]
     },
     "execution_count": 111,
     "metadata": {},
     "output_type": "execute_result"
    }
   ],
   "source": [
    "df_temp = df_country_2.loc[1000000:1300000,:].copy()\n",
    "df_temp['Country'].value_counts(), len(geocode_cache)"
   ]
  },
  {
   "cell_type": "code",
   "execution_count": 113,
   "metadata": {
    "colab": {
     "base_uri": "https://localhost:8080/"
    },
    "executionInfo": {
     "elapsed": 5371990,
     "status": "ok",
     "timestamp": 1677126945502,
     "user": {
      "displayName": "H H",
      "userId": "12469201729844154001"
     },
     "user_tz": 480
    },
    "id": "HkIjYHENO8vQ",
    "outputId": "830b693d-13ec-4968-d9a6-169e874b4676"
   },
   "outputs": [
    {
     "name": "stderr",
     "output_type": "stream",
     "text": [
      "100%|██████████| 1857/1857 [1:29:31<00:00,  2.89s/it]\n"
     ]
    }
   ],
   "source": [
    "df_temp['Country'] = process_locations(df_temp, max_workers=10)"
   ]
  },
  {
   "cell_type": "code",
   "execution_count": 114,
   "metadata": {
    "colab": {
     "base_uri": "https://localhost:8080/"
    },
    "executionInfo": {
     "elapsed": 10,
     "status": "ok",
     "timestamp": 1677126946003,
     "user": {
      "displayName": "H H",
      "userId": "12469201729844154001"
     },
     "user_tz": 480
    },
    "id": "dyhMtCxHPGrN",
    "outputId": "f3776cbc-0049-4cf4-a8d7-d2d870263499"
   },
   "outputs": [
    {
     "name": "stdout",
     "output_type": "stream",
     "text": [
      "Unknown: 53575, Total: 185628, Unknown rate: 28.86%\n"
     ]
    }
   ],
   "source": [
    "unknown = (df_temp['Country']=='Unknown').sum()\n",
    "total = df_temp.shape[0]\n",
    "unknown_rate = round(unknown/total*100,2)\n",
    "print(f\"Unknown: {unknown}, Total: {total}, Unknown rate: {unknown_rate}%\")"
   ]
  },
  {
   "cell_type": "code",
   "execution_count": 116,
   "metadata": {
    "executionInfo": {
     "elapsed": 240,
     "status": "ok",
     "timestamp": 1677128817384,
     "user": {
      "displayName": "H H",
      "userId": "12469201729844154001"
     },
     "user_tz": 480
    },
    "id": "YXYwgRIbPJt9"
   },
   "outputs": [],
   "source": [
    "df_country_2.loc[1000000:1300000, 'Country'] = df_temp['Country']"
   ]
  },
  {
   "cell_type": "code",
   "execution_count": 118,
   "metadata": {
    "executionInfo": {
     "elapsed": 4882,
     "status": "ok",
     "timestamp": 1677128857983,
     "user": {
      "displayName": "H H",
      "userId": "12469201729844154001"
     },
     "user_tz": 480
    },
    "id": "PnG9ZH0YqvEV"
   },
   "outputs": [],
   "source": [
    "df_country_2.to_csv('/content/drive/My Drive/Colab Notebooks/CHATGPT/Twitter_EDA_country_sim.csv')"
   ]
  },
  {
   "cell_type": "code",
   "execution_count": 124,
   "metadata": {
    "executionInfo": {
     "elapsed": 433,
     "status": "ok",
     "timestamp": 1677129264340,
     "user": {
      "displayName": "H H",
      "userId": "12469201729844154001"
     },
     "user_tz": 480
    },
    "id": "tZtg_1Qeq6Cb"
   },
   "outputs": [],
   "source": [
    "df_country_3 = df_country_2[df_country_2['Country']=='Unknown'].copy()"
   ]
  },
  {
   "cell_type": "code",
   "execution_count": 12,
   "metadata": {
    "executionInfo": {
     "elapsed": 181,
     "status": "ok",
     "timestamp": 1677131841578,
     "user": {
      "displayName": "H H",
      "userId": "12469201729844154001"
     },
     "user_tz": 480
    },
    "id": "_m129u9RrfTW"
   },
   "outputs": [],
   "source": [
    "def final_run(df):\n",
    "  df_temp = df.copy()\n",
    "  df_temp['Country'] = process_locations(df_temp, max_workers=10)\n",
    "  unknown = (df_temp['Country']=='Unknown').sum()\n",
    "  total = df_temp.shape[0]\n",
    "  unknown_rate = round(unknown/total*100,2)\n",
    "  print(f\"Unknown: {unknown}, Total: {total}, Unknown rate: {unknown_rate}%\")\n",
    "  df['Country'] = df_temp['Country']\n",
    "  df.to_csv('/content/drive/My Drive/Colab Notebooks/CHATGPT/Twitter_EDA_country_sim_2.csv')"
   ]
  },
  {
   "cell_type": "code",
   "execution_count": 20,
   "metadata": {
    "colab": {
     "base_uri": "https://localhost:8080/"
    },
    "collapsed": true,
    "executionInfo": {
     "elapsed": 1334,
     "status": "ok",
     "timestamp": 1677132030340,
     "user": {
      "displayName": "H H",
      "userId": "12469201729844154001"
     },
     "user_tz": 480
    },
    "id": "TDYBZ4ll2Qh8",
    "outputId": "0390e367-7bd1-470f-dea5-635936bcd78f"
   },
   "outputs": [
    {
     "name": "stderr",
     "output_type": "stream",
     "text": [
      "/usr/local/lib/python3.8/dist-packages/IPython/core/interactiveshell.py:3326: DtypeWarning: Columns (0) have mixed types.Specify dtype option on import or set low_memory=False.\n",
      "  exec(code_obj, self.user_global_ns, self.user_ns)\n"
     ]
    }
   ],
   "source": [
    "df_country_2=pd.read_csv('/content/drive/My Drive/Colab Notebooks/CHATGPT/Twitter_EDA_country_sim.csv')\n",
    "df_country_2 = df_country_2.set_index('Unnamed: 0')"
   ]
  },
  {
   "cell_type": "code",
   "execution_count": 22,
   "metadata": {
    "colab": {
     "base_uri": "https://localhost:8080/",
     "height": 455
    },
    "executionInfo": {
     "elapsed": 462,
     "status": "ok",
     "timestamp": 1677132080180,
     "user": {
      "displayName": "H H",
      "userId": "12469201729844154001"
     },
     "user_tz": 480
    },
    "id": "lJv34U4l2k5Z",
    "outputId": "aee6cc75-8860-45c2-fe9c-cbe90941c480"
   },
   "outputs": [
    {
     "data": {
      "text/html": [
       "\n",
       "  <div id=\"df-4914b3cf-97b9-46c7-be9e-7967f5f0a5ed\">\n",
       "    <div class=\"colab-df-container\">\n",
       "      <div>\n",
       "<style scoped>\n",
       "    .dataframe tbody tr th:only-of-type {\n",
       "        vertical-align: middle;\n",
       "    }\n",
       "\n",
       "    .dataframe tbody tr th {\n",
       "        vertical-align: top;\n",
       "    }\n",
       "\n",
       "    .dataframe thead th {\n",
       "        text-align: right;\n",
       "    }\n",
       "</style>\n",
       "<table border=\"1\" class=\"dataframe\">\n",
       "  <thead>\n",
       "    <tr style=\"text-align: right;\">\n",
       "      <th></th>\n",
       "      <th>UserName</th>\n",
       "      <th>Location</th>\n",
       "      <th>Country</th>\n",
       "    </tr>\n",
       "    <tr>\n",
       "      <th>Unnamed: 0</th>\n",
       "      <th></th>\n",
       "      <th></th>\n",
       "      <th></th>\n",
       "    </tr>\n",
       "  </thead>\n",
       "  <tbody>\n",
       "    <tr>\n",
       "      <th>5</th>\n",
       "      <td>stoosepp</td>\n",
       "      <td>Australia, for now</td>\n",
       "      <td>Unknown</td>\n",
       "    </tr>\n",
       "    <tr>\n",
       "      <th>6</th>\n",
       "      <td>kempes76</td>\n",
       "      <td>København</td>\n",
       "      <td>Unknown</td>\n",
       "    </tr>\n",
       "    <tr>\n",
       "      <th>7</th>\n",
       "      <td>AndrewScully1</td>\n",
       "      <td>Avalon Beach, Sydney</td>\n",
       "      <td>Unknown</td>\n",
       "    </tr>\n",
       "    <tr>\n",
       "      <th>12</th>\n",
       "      <td>knelsonvsi</td>\n",
       "      <td>California, Riverside</td>\n",
       "      <td>Unknown</td>\n",
       "    </tr>\n",
       "    <tr>\n",
       "      <th>19</th>\n",
       "      <td>dannypostmaa</td>\n",
       "      <td>Get a new profile picture →</td>\n",
       "      <td>Unknown</td>\n",
       "    </tr>\n",
       "    <tr>\n",
       "      <th>...</th>\n",
       "      <td>...</td>\n",
       "      <td>...</td>\n",
       "      <td>...</td>\n",
       "    </tr>\n",
       "    <tr>\n",
       "      <th>1255491</th>\n",
       "      <td>Coscorrodrift</td>\n",
       "      <td>prolly on youtube</td>\n",
       "      <td>Unknown</td>\n",
       "    </tr>\n",
       "    <tr>\n",
       "      <th>1255494</th>\n",
       "      <td>lingzhong_eth</td>\n",
       "      <td>⛓</td>\n",
       "      <td>Unknown</td>\n",
       "    </tr>\n",
       "    <tr>\n",
       "      <th>1255498</th>\n",
       "      <td>lingzhong_eth</td>\n",
       "      <td>⛓</td>\n",
       "      <td>Unknown</td>\n",
       "    </tr>\n",
       "    <tr>\n",
       "      <th>1255499</th>\n",
       "      <td>bitchrate</td>\n",
       "      <td>kha\\vivian \\\\ it\\its</td>\n",
       "      <td>Unknown</td>\n",
       "    </tr>\n",
       "    <tr>\n",
       "      <th>1255500</th>\n",
       "      <td>akiraakimura</td>\n",
       "      <td>CDMX, Mexico</td>\n",
       "      <td>Unknown</td>\n",
       "    </tr>\n",
       "  </tbody>\n",
       "</table>\n",
       "<p>286519 rows × 3 columns</p>\n",
       "</div>\n",
       "      <button class=\"colab-df-convert\" onclick=\"convertToInteractive('df-4914b3cf-97b9-46c7-be9e-7967f5f0a5ed')\"\n",
       "              title=\"Convert this dataframe to an interactive table.\"\n",
       "              style=\"display:none;\">\n",
       "        \n",
       "  <svg xmlns=\"http://www.w3.org/2000/svg\" height=\"24px\"viewBox=\"0 0 24 24\"\n",
       "       width=\"24px\">\n",
       "    <path d=\"M0 0h24v24H0V0z\" fill=\"none\"/>\n",
       "    <path d=\"M18.56 5.44l.94 2.06.94-2.06 2.06-.94-2.06-.94-.94-2.06-.94 2.06-2.06.94zm-11 1L8.5 8.5l.94-2.06 2.06-.94-2.06-.94L8.5 2.5l-.94 2.06-2.06.94zm10 10l.94 2.06.94-2.06 2.06-.94-2.06-.94-.94-2.06-.94 2.06-2.06.94z\"/><path d=\"M17.41 7.96l-1.37-1.37c-.4-.4-.92-.59-1.43-.59-.52 0-1.04.2-1.43.59L10.3 9.45l-7.72 7.72c-.78.78-.78 2.05 0 2.83L4 21.41c.39.39.9.59 1.41.59.51 0 1.02-.2 1.41-.59l7.78-7.78 2.81-2.81c.8-.78.8-2.07 0-2.86zM5.41 20L4 18.59l7.72-7.72 1.47 1.35L5.41 20z\"/>\n",
       "  </svg>\n",
       "      </button>\n",
       "      \n",
       "  <style>\n",
       "    .colab-df-container {\n",
       "      display:flex;\n",
       "      flex-wrap:wrap;\n",
       "      gap: 12px;\n",
       "    }\n",
       "\n",
       "    .colab-df-convert {\n",
       "      background-color: #E8F0FE;\n",
       "      border: none;\n",
       "      border-radius: 50%;\n",
       "      cursor: pointer;\n",
       "      display: none;\n",
       "      fill: #1967D2;\n",
       "      height: 32px;\n",
       "      padding: 0 0 0 0;\n",
       "      width: 32px;\n",
       "    }\n",
       "\n",
       "    .colab-df-convert:hover {\n",
       "      background-color: #E2EBFA;\n",
       "      box-shadow: 0px 1px 2px rgba(60, 64, 67, 0.3), 0px 1px 3px 1px rgba(60, 64, 67, 0.15);\n",
       "      fill: #174EA6;\n",
       "    }\n",
       "\n",
       "    [theme=dark] .colab-df-convert {\n",
       "      background-color: #3B4455;\n",
       "      fill: #D2E3FC;\n",
       "    }\n",
       "\n",
       "    [theme=dark] .colab-df-convert:hover {\n",
       "      background-color: #434B5C;\n",
       "      box-shadow: 0px 1px 3px 1px rgba(0, 0, 0, 0.15);\n",
       "      filter: drop-shadow(0px 1px 2px rgba(0, 0, 0, 0.3));\n",
       "      fill: #FFFFFF;\n",
       "    }\n",
       "  </style>\n",
       "\n",
       "      <script>\n",
       "        const buttonEl =\n",
       "          document.querySelector('#df-4914b3cf-97b9-46c7-be9e-7967f5f0a5ed button.colab-df-convert');\n",
       "        buttonEl.style.display =\n",
       "          google.colab.kernel.accessAllowed ? 'block' : 'none';\n",
       "\n",
       "        async function convertToInteractive(key) {\n",
       "          const element = document.querySelector('#df-4914b3cf-97b9-46c7-be9e-7967f5f0a5ed');\n",
       "          const dataTable =\n",
       "            await google.colab.kernel.invokeFunction('convertToInteractive',\n",
       "                                                     [key], {});\n",
       "          if (!dataTable) return;\n",
       "\n",
       "          const docLinkHtml = 'Like what you see? Visit the ' +\n",
       "            '<a target=\"_blank\" href=https://colab.research.google.com/notebooks/data_table.ipynb>data table notebook</a>'\n",
       "            + ' to learn more about interactive tables.';\n",
       "          element.innerHTML = '';\n",
       "          dataTable['output_type'] = 'display_data';\n",
       "          await google.colab.output.renderOutput(dataTable, element);\n",
       "          const docLink = document.createElement('div');\n",
       "          docLink.innerHTML = docLinkHtml;\n",
       "          element.appendChild(docLink);\n",
       "        }\n",
       "      </script>\n",
       "    </div>\n",
       "  </div>\n",
       "  "
      ],
      "text/plain": [
       "                 UserName                      Location  Country\n",
       "Unnamed: 0                                                      \n",
       "5                stoosepp            Australia, for now  Unknown\n",
       "6                kempes76                     København  Unknown\n",
       "7           AndrewScully1          Avalon Beach, Sydney  Unknown\n",
       "12             knelsonvsi         California, Riverside  Unknown\n",
       "19           dannypostmaa  Get a new profile picture →   Unknown\n",
       "...                   ...                           ...      ...\n",
       "1255491     Coscorrodrift             prolly on youtube  Unknown\n",
       "1255494     lingzhong_eth                             ⛓  Unknown\n",
       "1255498     lingzhong_eth                             ⛓  Unknown\n",
       "1255499         bitchrate          kha\\vivian \\\\ it\\its  Unknown\n",
       "1255500      akiraakimura                  CDMX, Mexico  Unknown\n",
       "\n",
       "[286519 rows x 3 columns]"
      ]
     },
     "execution_count": 22,
     "metadata": {},
     "output_type": "execute_result"
    }
   ],
   "source": [
    "df_country_3 = df_country_2[df_country_2['Country']=='Unknown']\n",
    "df_country_3"
   ]
  },
  {
   "cell_type": "code",
   "execution_count": 23,
   "metadata": {
    "colab": {
     "base_uri": "https://localhost:8080/"
    },
    "executionInfo": {
     "elapsed": 19502208,
     "status": "ok",
     "timestamp": 1677151638884,
     "user": {
      "displayName": "H H",
      "userId": "12469201729844154001"
     },
     "user_tz": 480
    },
    "id": "WFlLem0QuZED",
    "outputId": "b1834e20-93e8-4abe-c8de-261c49a127b9"
   },
   "outputs": [
    {
     "name": "stderr",
     "output_type": "stream",
     "text": [
      "100%|██████████| 100/100 [10:40<00:00,  6.41s/it]\n",
      "<ipython-input-12-c6bdd84f50b2>:8: SettingWithCopyWarning: \n",
      "A value is trying to be set on a copy of a slice from a DataFrame.\n",
      "Try using .loc[row_indexer,col_indexer] = value instead\n",
      "\n",
      "See the caveats in the documentation: https://pandas.pydata.org/pandas-docs/stable/user_guide/indexing.html#returning-a-view-versus-a-copy\n",
      "  df['Country'] = df_temp['Country']\n"
     ]
    },
    {
     "name": "stdout",
     "output_type": "stream",
     "text": [
      "Unknown: 6087, Total: 10000, Unknown rate: 60.87%\n",
      "0-10000done!\n"
     ]
    },
    {
     "name": "stderr",
     "output_type": "stream",
     "text": [
      "100%|██████████| 100/100 [11:39<00:00,  6.99s/it]\n"
     ]
    },
    {
     "name": "stdout",
     "output_type": "stream",
     "text": [
      "Unknown: 6429, Total: 10000, Unknown rate: 64.29%\n",
      "10000-20000done!\n"
     ]
    },
    {
     "name": "stderr",
     "output_type": "stream",
     "text": [
      "100%|██████████| 100/100 [13:02<00:00,  7.82s/it]\n"
     ]
    },
    {
     "name": "stdout",
     "output_type": "stream",
     "text": [
      "Unknown: 7297, Total: 10000, Unknown rate: 72.97%\n",
      "20000-30000done!\n"
     ]
    },
    {
     "name": "stderr",
     "output_type": "stream",
     "text": [
      "100%|██████████| 100/100 [14:09<00:00,  8.49s/it]\n"
     ]
    },
    {
     "name": "stdout",
     "output_type": "stream",
     "text": [
      "Unknown: 7876, Total: 10000, Unknown rate: 78.76%\n",
      "30000-40000done!\n"
     ]
    },
    {
     "name": "stderr",
     "output_type": "stream",
     "text": [
      "100%|██████████| 100/100 [14:09<00:00,  8.49s/it]\n"
     ]
    },
    {
     "name": "stdout",
     "output_type": "stream",
     "text": [
      "Unknown: 8078, Total: 10000, Unknown rate: 80.78%\n",
      "40000-50000done!\n"
     ]
    },
    {
     "name": "stderr",
     "output_type": "stream",
     "text": [
      "100%|██████████| 100/100 [13:43<00:00,  8.24s/it]\n"
     ]
    },
    {
     "name": "stdout",
     "output_type": "stream",
     "text": [
      "Unknown: 7646, Total: 10000, Unknown rate: 76.46%\n",
      "50000-60000done!\n"
     ]
    },
    {
     "name": "stderr",
     "output_type": "stream",
     "text": [
      "100%|██████████| 100/100 [12:45<00:00,  7.65s/it]\n"
     ]
    },
    {
     "name": "stdout",
     "output_type": "stream",
     "text": [
      "Unknown: 7122, Total: 10000, Unknown rate: 71.22%\n",
      "60000-70000done!\n"
     ]
    },
    {
     "name": "stderr",
     "output_type": "stream",
     "text": [
      "100%|██████████| 100/100 [12:24<00:00,  7.45s/it]\n"
     ]
    },
    {
     "name": "stdout",
     "output_type": "stream",
     "text": [
      "Unknown: 7174, Total: 10000, Unknown rate: 71.74%\n",
      "70000-80000done!\n"
     ]
    },
    {
     "name": "stderr",
     "output_type": "stream",
     "text": [
      "100%|██████████| 100/100 [13:09<00:00,  7.89s/it]\n"
     ]
    },
    {
     "name": "stdout",
     "output_type": "stream",
     "text": [
      "Unknown: 7486, Total: 10000, Unknown rate: 74.86%\n",
      "80000-90000done!\n"
     ]
    },
    {
     "name": "stderr",
     "output_type": "stream",
     "text": [
      "100%|██████████| 100/100 [13:00<00:00,  7.80s/it]\n"
     ]
    },
    {
     "name": "stdout",
     "output_type": "stream",
     "text": [
      "Unknown: 7203, Total: 10000, Unknown rate: 72.03%\n",
      "90000-100000done!\n"
     ]
    },
    {
     "name": "stderr",
     "output_type": "stream",
     "text": [
      "100%|██████████| 100/100 [13:13<00:00,  7.94s/it]\n"
     ]
    },
    {
     "name": "stdout",
     "output_type": "stream",
     "text": [
      "Unknown: 7545, Total: 10000, Unknown rate: 75.45%\n",
      "100000-110000done!\n"
     ]
    },
    {
     "name": "stderr",
     "output_type": "stream",
     "text": [
      "100%|██████████| 100/100 [13:47<00:00,  8.28s/it]\n"
     ]
    },
    {
     "name": "stdout",
     "output_type": "stream",
     "text": [
      "Unknown: 7763, Total: 10000, Unknown rate: 77.63%\n",
      "110000-120000done!\n"
     ]
    },
    {
     "name": "stderr",
     "output_type": "stream",
     "text": [
      "100%|██████████| 100/100 [13:20<00:00,  8.00s/it]\n"
     ]
    },
    {
     "name": "stdout",
     "output_type": "stream",
     "text": [
      "Unknown: 7680, Total: 10000, Unknown rate: 76.8%\n",
      "120000-130000done!\n"
     ]
    },
    {
     "name": "stderr",
     "output_type": "stream",
     "text": [
      "100%|██████████| 100/100 [13:30<00:00,  8.11s/it]\n"
     ]
    },
    {
     "name": "stdout",
     "output_type": "stream",
     "text": [
      "Unknown: 7797, Total: 10000, Unknown rate: 77.97%\n",
      "130000-140000done!\n"
     ]
    },
    {
     "name": "stderr",
     "output_type": "stream",
     "text": [
      "100%|██████████| 100/100 [13:31<00:00,  8.12s/it]\n"
     ]
    },
    {
     "name": "stdout",
     "output_type": "stream",
     "text": [
      "Unknown: 7758, Total: 10000, Unknown rate: 77.58%\n",
      "140000-150000done!\n"
     ]
    },
    {
     "name": "stderr",
     "output_type": "stream",
     "text": [
      "100%|██████████| 100/100 [14:13<00:00,  8.53s/it]\n"
     ]
    },
    {
     "name": "stdout",
     "output_type": "stream",
     "text": [
      "Unknown: 8082, Total: 10000, Unknown rate: 80.82%\n",
      "150000-160000done!\n"
     ]
    },
    {
     "name": "stderr",
     "output_type": "stream",
     "text": [
      "100%|██████████| 100/100 [14:09<00:00,  8.50s/it]\n"
     ]
    },
    {
     "name": "stdout",
     "output_type": "stream",
     "text": [
      "Unknown: 8017, Total: 10000, Unknown rate: 80.17%\n",
      "160000-170000done!\n"
     ]
    },
    {
     "name": "stderr",
     "output_type": "stream",
     "text": [
      "100%|██████████| 100/100 [14:36<00:00,  8.77s/it]\n"
     ]
    },
    {
     "name": "stdout",
     "output_type": "stream",
     "text": [
      "Unknown: 8425, Total: 10000, Unknown rate: 84.25%\n",
      "170000-180000done!\n"
     ]
    },
    {
     "name": "stderr",
     "output_type": "stream",
     "text": [
      "100%|██████████| 100/100 [15:37<00:00,  9.37s/it]\n"
     ]
    },
    {
     "name": "stdout",
     "output_type": "stream",
     "text": [
      "Unknown: 8874, Total: 10000, Unknown rate: 88.74%\n",
      "180000-190000done!\n"
     ]
    },
    {
     "name": "stderr",
     "output_type": "stream",
     "text": [
      "100%|██████████| 100/100 [15:19<00:00,  9.20s/it]\n"
     ]
    },
    {
     "name": "stdout",
     "output_type": "stream",
     "text": [
      "Unknown: 8750, Total: 10000, Unknown rate: 87.5%\n",
      "190000-200000done!\n"
     ]
    },
    {
     "name": "stderr",
     "output_type": "stream",
     "text": [
      "100%|██████████| 100/100 [14:56<00:00,  8.97s/it]\n"
     ]
    },
    {
     "name": "stdout",
     "output_type": "stream",
     "text": [
      "Unknown: 8452, Total: 10000, Unknown rate: 84.52%\n",
      "200000-210000done!\n"
     ]
    },
    {
     "name": "stderr",
     "output_type": "stream",
     "text": [
      "100%|██████████| 100/100 [14:52<00:00,  8.93s/it]\n"
     ]
    },
    {
     "name": "stdout",
     "output_type": "stream",
     "text": [
      "Unknown: 8539, Total: 10000, Unknown rate: 85.39%\n",
      "210000-220000done!\n"
     ]
    },
    {
     "name": "stderr",
     "output_type": "stream",
     "text": [
      "100%|██████████| 100/100 [15:03<00:00,  9.03s/it]\n"
     ]
    },
    {
     "name": "stdout",
     "output_type": "stream",
     "text": [
      "Unknown: 8560, Total: 10000, Unknown rate: 85.6%\n",
      "220000-230000done!\n"
     ]
    },
    {
     "name": "stderr",
     "output_type": "stream",
     "text": [
      "100%|██████████| 100/100 [04:20<00:00,  2.60s/it]\n"
     ]
    },
    {
     "name": "stdout",
     "output_type": "stream",
     "text": [
      "Unknown: 8932, Total: 10000, Unknown rate: 89.32%\n",
      "230000-240000done!\n"
     ]
    },
    {
     "name": "stderr",
     "output_type": "stream",
     "text": [
      "100%|██████████| 100/100 [01:20<00:00,  1.25it/s]\n"
     ]
    },
    {
     "name": "stdout",
     "output_type": "stream",
     "text": [
      "Unknown: 9060, Total: 10000, Unknown rate: 90.6%\n",
      "240000-250000done!\n"
     ]
    },
    {
     "name": "stderr",
     "output_type": "stream",
     "text": [
      "100%|██████████| 100/100 [01:09<00:00,  1.44it/s]\n"
     ]
    },
    {
     "name": "stdout",
     "output_type": "stream",
     "text": [
      "Unknown: 9210, Total: 10000, Unknown rate: 92.1%\n",
      "250000-260000done!\n"
     ]
    },
    {
     "name": "stderr",
     "output_type": "stream",
     "text": [
      "100%|██████████| 100/100 [01:10<00:00,  1.42it/s]\n"
     ]
    },
    {
     "name": "stdout",
     "output_type": "stream",
     "text": [
      "Unknown: 9277, Total: 10000, Unknown rate: 92.77%\n",
      "260000-270000done!\n"
     ]
    },
    {
     "name": "stderr",
     "output_type": "stream",
     "text": [
      "100%|██████████| 100/100 [01:11<00:00,  1.40it/s]\n"
     ]
    },
    {
     "name": "stdout",
     "output_type": "stream",
     "text": [
      "Unknown: 9422, Total: 10000, Unknown rate: 94.22%\n",
      "270000-280000done!\n"
     ]
    },
    {
     "name": "stderr",
     "output_type": "stream",
     "text": [
      "100%|██████████| 66/66 [00:49<00:00,  1.35it/s]"
     ]
    },
    {
     "name": "stdout",
     "output_type": "stream",
     "text": [
      "Unknown: 6211, Total: 6519, Unknown rate: 95.28%\n",
      "280000-290000done!\n"
     ]
    },
    {
     "name": "stderr",
     "output_type": "stream",
     "text": [
      "\n"
     ]
    }
   ],
   "source": [
    "for i in range(10000, 300000, 10000):\n",
    "  final_run(df_country_3[i-10000:i])\n",
    "  print(f'{i-10000}-{i}done!')"
   ]
  },
  {
   "cell_type": "code",
   "execution_count": 157,
   "metadata": {
    "executionInfo": {
     "elapsed": 322,
     "status": "ok",
     "timestamp": 1677131053738,
     "user": {
      "displayName": "H H",
      "userId": "12469201729844154001"
     },
     "user_tz": 480
    },
    "id": "u3xOxUFas9YT"
   },
   "outputs": [],
   "source": [
    "df.loc[df_country_2.index, 'Country'] = df_country_2['Country']"
   ]
  },
  {
   "cell_type": "code",
   "execution_count": 4,
   "metadata": {
    "colab": {
     "base_uri": "https://localhost:8080/"
    },
    "executionInfo": {
     "elapsed": 9943,
     "status": "ok",
     "timestamp": 1677174369659,
     "user": {
      "displayName": "H H",
      "userId": "12469201729844154001"
     },
     "user_tz": 480
    },
    "id": "peSwrt8Hzalc",
    "outputId": "c0551490-99e4-48bb-d087-c819cd88f7d2"
   },
   "outputs": [
    {
     "name": "stderr",
     "output_type": "stream",
     "text": [
      "/usr/local/lib/python3.8/dist-packages/IPython/core/interactiveshell.py:3326: DtypeWarning: Columns (0,1,2,3,4,5,6,7,8,9,10) have mixed types.Specify dtype option on import or set low_memory=False.\n",
      "  exec(code_obj, self.user_global_ns, self.user_ns)\n"
     ]
    }
   ],
   "source": [
    "df=pd.read_csv('/content/drive/My Drive/Colab Notebooks/CHATGPT/Twitter_EDA_country.csv')"
   ]
  },
  {
   "cell_type": "code",
   "execution_count": 6,
   "metadata": {
    "executionInfo": {
     "elapsed": 1638,
     "status": "ok",
     "timestamp": 1677174397872,
     "user": {
      "displayName": "H H",
      "userId": "12469201729844154001"
     },
     "user_tz": 480
    },
    "id": "oCF8YjpVYfrn"
   },
   "outputs": [],
   "source": [
    "df = df.set_index('Unnamed: 0')"
   ]
  },
  {
   "cell_type": "code",
   "execution_count": 52,
   "metadata": {
    "executionInfo": {
     "elapsed": 201,
     "status": "ok",
     "timestamp": 1677175601111,
     "user": {
      "displayName": "H H",
      "userId": "12469201729844154001"
     },
     "user_tz": 480
    },
    "id": "qoNX14H5bTqU"
   },
   "outputs": [],
   "source": [
    "df_filter = df[(df['Location']!='Unknown')&(df['Country']=='Unknown')].copy()"
   ]
  },
  {
   "cell_type": "code",
   "execution_count": 53,
   "metadata": {
    "executionInfo": {
     "elapsed": 134,
     "status": "ok",
     "timestamp": 1677175603546,
     "user": {
      "displayName": "H H",
      "userId": "12469201729844154001"
     },
     "user_tz": 480
    },
    "id": "8odzCgj0bwWh"
   },
   "outputs": [],
   "source": [
    "df_filter['Country'] = df_filter['Location'].map(geocode_cache)"
   ]
  },
  {
   "cell_type": "code",
   "execution_count": 54,
   "metadata": {
    "executionInfo": {
     "elapsed": 2,
     "status": "ok",
     "timestamp": 1677175612202,
     "user": {
      "displayName": "H H",
      "userId": "12469201729844154001"
     },
     "user_tz": 480
    },
    "id": "gCObq8mUcBjU"
   },
   "outputs": [],
   "source": [
    "df_filter['Country'] = df_filter['Country'].fillna('Unknown')"
   ]
  },
  {
   "cell_type": "code",
   "execution_count": 66,
   "metadata": {
    "executionInfo": {
     "elapsed": 892,
     "status": "ok",
     "timestamp": 1677175835859,
     "user": {
      "displayName": "H H",
      "userId": "12469201729844154001"
     },
     "user_tz": 480
    },
    "id": "wWgDu8-Dc-DY"
   },
   "outputs": [],
   "source": [
    "df.loc[df_filter.index, 'Country'] = df_filter['Country']"
   ]
  },
  {
   "cell_type": "code",
   "execution_count": 68,
   "metadata": {
    "executionInfo": {
     "elapsed": 16645,
     "status": "ok",
     "timestamp": 1677175940103,
     "user": {
      "displayName": "H H",
      "userId": "12469201729844154001"
     },
     "user_tz": 480
    },
    "id": "KhJliE8OeVLZ"
   },
   "outputs": [],
   "source": [
    "df.to_csv('/content/drive/My Drive/Colab Notebooks/CHATGPT/Twitter_EDA_country.csv')"
   ]
  },
  {
   "cell_type": "code",
   "execution_count": 69,
   "metadata": {
    "colab": {
     "base_uri": "https://localhost:8080/",
     "height": 455
    },
    "executionInfo": {
     "elapsed": 25,
     "status": "ok",
     "timestamp": 1677176181784,
     "user": {
      "displayName": "H H",
      "userId": "12469201729844154001"
     },
     "user_tz": 480
    },
    "id": "-p0aVTqNfYr1",
    "outputId": "ba140a7f-ddaf-4c95-ea03-82a11865a975"
   },
   "outputs": [
    {
     "data": {
      "text/html": [
       "\n",
       "  <div id=\"df-929b7672-ce14-40d3-916e-1c763b60f97d\">\n",
       "    <div class=\"colab-df-container\">\n",
       "      <div>\n",
       "<style scoped>\n",
       "    .dataframe tbody tr th:only-of-type {\n",
       "        vertical-align: middle;\n",
       "    }\n",
       "\n",
       "    .dataframe tbody tr th {\n",
       "        vertical-align: top;\n",
       "    }\n",
       "\n",
       "    .dataframe thead th {\n",
       "        text-align: right;\n",
       "    }\n",
       "</style>\n",
       "<table border=\"1\" class=\"dataframe\">\n",
       "  <thead>\n",
       "    <tr style=\"text-align: right;\">\n",
       "      <th></th>\n",
       "      <th>UserId</th>\n",
       "      <th>UserName</th>\n",
       "      <th>Verified</th>\n",
       "      <th>Location</th>\n",
       "      <th>Followers</th>\n",
       "      <th>Tweet</th>\n",
       "      <th>Language</th>\n",
       "      <th>Date</th>\n",
       "      <th>Time_of_the_day</th>\n",
       "      <th>Country</th>\n",
       "    </tr>\n",
       "    <tr>\n",
       "      <th>Unnamed: 0</th>\n",
       "      <th></th>\n",
       "      <th></th>\n",
       "      <th></th>\n",
       "      <th></th>\n",
       "      <th></th>\n",
       "      <th></th>\n",
       "      <th></th>\n",
       "      <th></th>\n",
       "      <th></th>\n",
       "      <th></th>\n",
       "    </tr>\n",
       "  </thead>\n",
       "  <tbody>\n",
       "    <tr>\n",
       "      <th>0</th>\n",
       "      <td>1620210123732828160.0</td>\n",
       "      <td>Erban_legend_</td>\n",
       "      <td>False</td>\n",
       "      <td>Chicago, IL</td>\n",
       "      <td>763.0</td>\n",
       "      <td>ChatGPT is basically the best unpaid intern to...</td>\n",
       "      <td>en</td>\n",
       "      <td>2023-01-30</td>\n",
       "      <td>23:59:30</td>\n",
       "      <td>United States</td>\n",
       "    </tr>\n",
       "    <tr>\n",
       "      <th>1</th>\n",
       "      <td>1620210123456270336.0</td>\n",
       "      <td>doomoog</td>\n",
       "      <td>False</td>\n",
       "      <td>Unknown</td>\n",
       "      <td>60.0</td>\n",
       "      <td>@jeffersonmorley @ChatGPT @OpenAI It pulled th...</td>\n",
       "      <td>en</td>\n",
       "      <td>2023-01-30</td>\n",
       "      <td>23:59:30</td>\n",
       "      <td>Unknown</td>\n",
       "    </tr>\n",
       "    <tr>\n",
       "      <th>2</th>\n",
       "      <td>1620210110240034816.0</td>\n",
       "      <td>yanhaica1</td>\n",
       "      <td>False</td>\n",
       "      <td>Toronto, on, Canada</td>\n",
       "      <td>1493.0</td>\n",
       "      <td>#ChatGPT is down for me since yesterday. Is it...</td>\n",
       "      <td>en</td>\n",
       "      <td>2023-01-30</td>\n",
       "      <td>23:59:26</td>\n",
       "      <td>Canada</td>\n",
       "    </tr>\n",
       "    <tr>\n",
       "      <th>3</th>\n",
       "      <td>1620210048281776128.0</td>\n",
       "      <td>yasegumi</td>\n",
       "      <td>False</td>\n",
       "      <td>Unknown</td>\n",
       "      <td>273.0</td>\n",
       "      <td>@GalorOded ChatGPT is literally the marriage o...</td>\n",
       "      <td>en</td>\n",
       "      <td>2023-01-30</td>\n",
       "      <td>23:59:12</td>\n",
       "      <td>Unknown</td>\n",
       "    </tr>\n",
       "    <tr>\n",
       "      <th>4</th>\n",
       "      <td>1620210039570022400.0</td>\n",
       "      <td>datos_digital</td>\n",
       "      <td>False</td>\n",
       "      <td>Australia</td>\n",
       "      <td>6385.0</td>\n",
       "      <td>ChatGPT Is Making Universities Rethink Plagiar...</td>\n",
       "      <td>en</td>\n",
       "      <td>2023-01-30</td>\n",
       "      <td>23:59:10</td>\n",
       "      <td>Australia</td>\n",
       "    </tr>\n",
       "    <tr>\n",
       "      <th>...</th>\n",
       "      <td>...</td>\n",
       "      <td>...</td>\n",
       "      <td>...</td>\n",
       "      <td>...</td>\n",
       "      <td>...</td>\n",
       "      <td>...</td>\n",
       "      <td>...</td>\n",
       "      <td>...</td>\n",
       "      <td>...</td>\n",
       "      <td>...</td>\n",
       "    </tr>\n",
       "    <tr>\n",
       "      <th>1255496</th>\n",
       "      <td>1598105066753650688.0</td>\n",
       "      <td>goodside</td>\n",
       "      <td>False</td>\n",
       "      <td>Richmond, VA</td>\n",
       "      <td>40296.0</td>\n",
       "      <td>OpenAI’s new ChatGPT seems to be trained again...</td>\n",
       "      <td>en</td>\n",
       "      <td>2022-12-01</td>\n",
       "      <td>00:01:53</td>\n",
       "      <td>United States</td>\n",
       "    </tr>\n",
       "    <tr>\n",
       "      <th>1255497</th>\n",
       "      <td>1598104931248242688.0</td>\n",
       "      <td>1024pixels1</td>\n",
       "      <td>False</td>\n",
       "      <td>Unknown</td>\n",
       "      <td>268.0</td>\n",
       "      <td>では、Pixivでフォロワーを増やす為にはどうすれば良いのですか？\\n#ChatGPT ht...</td>\n",
       "      <td>ja</td>\n",
       "      <td>2022-12-01</td>\n",
       "      <td>00:01:21</td>\n",
       "      <td>Unknown</td>\n",
       "    </tr>\n",
       "    <tr>\n",
       "      <th>1255498</th>\n",
       "      <td>1598104905029660672.0</td>\n",
       "      <td>lingzhong_eth</td>\n",
       "      <td>False</td>\n",
       "      <td>⛓</td>\n",
       "      <td>167.0</td>\n",
       "      <td>I asked #ChatGPT\\n“Is COVID lockdown good or b...</td>\n",
       "      <td>en</td>\n",
       "      <td>2022-12-01</td>\n",
       "      <td>00:01:15</td>\n",
       "      <td>Unknown</td>\n",
       "    </tr>\n",
       "    <tr>\n",
       "      <th>1255499</th>\n",
       "      <td>1598104707548987392.0</td>\n",
       "      <td>bitchrate</td>\n",
       "      <td>False</td>\n",
       "      <td>kha\\vivian \\\\ it\\its</td>\n",
       "      <td>251.0</td>\n",
       "      <td>chatgpt is really cool but man saying shit to ...</td>\n",
       "      <td>en</td>\n",
       "      <td>2022-12-01</td>\n",
       "      <td>00:00:28</td>\n",
       "      <td>Unknown</td>\n",
       "    </tr>\n",
       "    <tr>\n",
       "      <th>1255500</th>\n",
       "      <td>1598104597025153024.0</td>\n",
       "      <td>akiraakimura</td>\n",
       "      <td>False</td>\n",
       "      <td>CDMX, Mexico</td>\n",
       "      <td>192.0</td>\n",
       "      <td>Ah ChatGPT is the programming coach I needed. ...</td>\n",
       "      <td>en</td>\n",
       "      <td>2022-12-01</td>\n",
       "      <td>00:00:01</td>\n",
       "      <td>Unknown</td>\n",
       "    </tr>\n",
       "  </tbody>\n",
       "</table>\n",
       "<p>1361052 rows × 10 columns</p>\n",
       "</div>\n",
       "      <button class=\"colab-df-convert\" onclick=\"convertToInteractive('df-929b7672-ce14-40d3-916e-1c763b60f97d')\"\n",
       "              title=\"Convert this dataframe to an interactive table.\"\n",
       "              style=\"display:none;\">\n",
       "        \n",
       "  <svg xmlns=\"http://www.w3.org/2000/svg\" height=\"24px\"viewBox=\"0 0 24 24\"\n",
       "       width=\"24px\">\n",
       "    <path d=\"M0 0h24v24H0V0z\" fill=\"none\"/>\n",
       "    <path d=\"M18.56 5.44l.94 2.06.94-2.06 2.06-.94-2.06-.94-.94-2.06-.94 2.06-2.06.94zm-11 1L8.5 8.5l.94-2.06 2.06-.94-2.06-.94L8.5 2.5l-.94 2.06-2.06.94zm10 10l.94 2.06.94-2.06 2.06-.94-2.06-.94-.94-2.06-.94 2.06-2.06.94z\"/><path d=\"M17.41 7.96l-1.37-1.37c-.4-.4-.92-.59-1.43-.59-.52 0-1.04.2-1.43.59L10.3 9.45l-7.72 7.72c-.78.78-.78 2.05 0 2.83L4 21.41c.39.39.9.59 1.41.59.51 0 1.02-.2 1.41-.59l7.78-7.78 2.81-2.81c.8-.78.8-2.07 0-2.86zM5.41 20L4 18.59l7.72-7.72 1.47 1.35L5.41 20z\"/>\n",
       "  </svg>\n",
       "      </button>\n",
       "      \n",
       "  <style>\n",
       "    .colab-df-container {\n",
       "      display:flex;\n",
       "      flex-wrap:wrap;\n",
       "      gap: 12px;\n",
       "    }\n",
       "\n",
       "    .colab-df-convert {\n",
       "      background-color: #E8F0FE;\n",
       "      border: none;\n",
       "      border-radius: 50%;\n",
       "      cursor: pointer;\n",
       "      display: none;\n",
       "      fill: #1967D2;\n",
       "      height: 32px;\n",
       "      padding: 0 0 0 0;\n",
       "      width: 32px;\n",
       "    }\n",
       "\n",
       "    .colab-df-convert:hover {\n",
       "      background-color: #E2EBFA;\n",
       "      box-shadow: 0px 1px 2px rgba(60, 64, 67, 0.3), 0px 1px 3px 1px rgba(60, 64, 67, 0.15);\n",
       "      fill: #174EA6;\n",
       "    }\n",
       "\n",
       "    [theme=dark] .colab-df-convert {\n",
       "      background-color: #3B4455;\n",
       "      fill: #D2E3FC;\n",
       "    }\n",
       "\n",
       "    [theme=dark] .colab-df-convert:hover {\n",
       "      background-color: #434B5C;\n",
       "      box-shadow: 0px 1px 3px 1px rgba(0, 0, 0, 0.15);\n",
       "      filter: drop-shadow(0px 1px 2px rgba(0, 0, 0, 0.3));\n",
       "      fill: #FFFFFF;\n",
       "    }\n",
       "  </style>\n",
       "\n",
       "      <script>\n",
       "        const buttonEl =\n",
       "          document.querySelector('#df-929b7672-ce14-40d3-916e-1c763b60f97d button.colab-df-convert');\n",
       "        buttonEl.style.display =\n",
       "          google.colab.kernel.accessAllowed ? 'block' : 'none';\n",
       "\n",
       "        async function convertToInteractive(key) {\n",
       "          const element = document.querySelector('#df-929b7672-ce14-40d3-916e-1c763b60f97d');\n",
       "          const dataTable =\n",
       "            await google.colab.kernel.invokeFunction('convertToInteractive',\n",
       "                                                     [key], {});\n",
       "          if (!dataTable) return;\n",
       "\n",
       "          const docLinkHtml = 'Like what you see? Visit the ' +\n",
       "            '<a target=\"_blank\" href=https://colab.research.google.com/notebooks/data_table.ipynb>data table notebook</a>'\n",
       "            + ' to learn more about interactive tables.';\n",
       "          element.innerHTML = '';\n",
       "          dataTable['output_type'] = 'display_data';\n",
       "          await google.colab.output.renderOutput(dataTable, element);\n",
       "          const docLink = document.createElement('div');\n",
       "          docLink.innerHTML = docLinkHtml;\n",
       "          element.appendChild(docLink);\n",
       "        }\n",
       "      </script>\n",
       "    </div>\n",
       "  </div>\n",
       "  "
      ],
      "text/plain": [
       "                           UserId       UserName Verified  \\\n",
       "Unnamed: 0                                                  \n",
       "0           1620210123732828160.0  Erban_legend_    False   \n",
       "1           1620210123456270336.0        doomoog    False   \n",
       "2           1620210110240034816.0      yanhaica1    False   \n",
       "3           1620210048281776128.0       yasegumi    False   \n",
       "4           1620210039570022400.0  datos_digital    False   \n",
       "...                           ...            ...      ...   \n",
       "1255496     1598105066753650688.0       goodside    False   \n",
       "1255497     1598104931248242688.0    1024pixels1    False   \n",
       "1255498     1598104905029660672.0  lingzhong_eth    False   \n",
       "1255499     1598104707548987392.0      bitchrate    False   \n",
       "1255500     1598104597025153024.0   akiraakimura    False   \n",
       "\n",
       "                        Location Followers  \\\n",
       "Unnamed: 0                                   \n",
       "0                    Chicago, IL     763.0   \n",
       "1                        Unknown      60.0   \n",
       "2            Toronto, on, Canada    1493.0   \n",
       "3                        Unknown     273.0   \n",
       "4                      Australia    6385.0   \n",
       "...                          ...       ...   \n",
       "1255496             Richmond, VA   40296.0   \n",
       "1255497                  Unknown     268.0   \n",
       "1255498                        ⛓     167.0   \n",
       "1255499     kha\\vivian \\\\ it\\its     251.0   \n",
       "1255500             CDMX, Mexico     192.0   \n",
       "\n",
       "                                                        Tweet Language  \\\n",
       "Unnamed: 0                                                               \n",
       "0           ChatGPT is basically the best unpaid intern to...       en   \n",
       "1           @jeffersonmorley @ChatGPT @OpenAI It pulled th...       en   \n",
       "2           #ChatGPT is down for me since yesterday. Is it...       en   \n",
       "3           @GalorOded ChatGPT is literally the marriage o...       en   \n",
       "4           ChatGPT Is Making Universities Rethink Plagiar...       en   \n",
       "...                                                       ...      ...   \n",
       "1255496     OpenAI’s new ChatGPT seems to be trained again...       en   \n",
       "1255497     では、Pixivでフォロワーを増やす為にはどうすれば良いのですか？\\n#ChatGPT ht...       ja   \n",
       "1255498     I asked #ChatGPT\\n“Is COVID lockdown good or b...       en   \n",
       "1255499     chatgpt is really cool but man saying shit to ...       en   \n",
       "1255500     Ah ChatGPT is the programming coach I needed. ...       en   \n",
       "\n",
       "                  Date Time_of_the_day        Country  \n",
       "Unnamed: 0                                             \n",
       "0           2023-01-30        23:59:30  United States  \n",
       "1           2023-01-30        23:59:30        Unknown  \n",
       "2           2023-01-30        23:59:26         Canada  \n",
       "3           2023-01-30        23:59:12        Unknown  \n",
       "4           2023-01-30        23:59:10      Australia  \n",
       "...                ...             ...            ...  \n",
       "1255496     2022-12-01        00:01:53  United States  \n",
       "1255497     2022-12-01        00:01:21        Unknown  \n",
       "1255498     2022-12-01        00:01:15        Unknown  \n",
       "1255499     2022-12-01        00:00:28        Unknown  \n",
       "1255500     2022-12-01        00:00:01        Unknown  \n",
       "\n",
       "[1361052 rows x 10 columns]"
      ]
     },
     "execution_count": 69,
     "metadata": {},
     "output_type": "execute_result"
    }
   ],
   "source": [
    "df"
   ]
  }
 ],
 "metadata": {
  "colab": {
   "authorship_tag": "ABX9TyOQeU2c4IdMKEgDRgP0tvi3",
   "provenance": []
  },
  "kernelspec": {
   "display_name": "Python 3 (ipykernel)",
   "language": "python",
   "name": "python3"
  },
  "language_info": {
   "codemirror_mode": {
    "name": "ipython",
    "version": 3
   },
   "file_extension": ".py",
   "mimetype": "text/x-python",
   "name": "python",
   "nbconvert_exporter": "python",
   "pygments_lexer": "ipython3",
   "version": "3.9.12"
  }
 },
 "nbformat": 4,
 "nbformat_minor": 1
}
