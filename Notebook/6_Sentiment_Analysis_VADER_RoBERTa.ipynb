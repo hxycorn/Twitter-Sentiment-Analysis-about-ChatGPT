{
 "cells": [
  {
   "cell_type": "markdown",
   "id": "fe7f6a07",
   "metadata": {},
   "source": [
    "# Sentiment Analysis"
   ]
  },
  {
   "cell_type": "markdown",
   "id": "8855efc7",
   "metadata": {},
   "source": [
    "- **VADER**: a lexicon-based (or rule-based) model. Breifly, this model has its own dictionary (list of negative and positive words), and it tries to find the words from the text. Consequently it assigns scores depending on found words. Custom words can be added to the dictionary.\n",
    "\n",
    "- **Twitter-roBERTa-base**: a deep learning based model, which was  trained on 168.86M tweets until the end of September 2022, and finetuned for sentiment analysis with the TweetEval benchmark. \n",
    "\n",
    "Both models does not require training, i.e. they can be used directly out of package."
   ]
  },
  {
   "cell_type": "code",
   "execution_count": 126,
   "id": "827d398e",
   "metadata": {},
   "outputs": [
    {
     "name": "stdout",
     "output_type": "stream",
     "text": [
      "Looking in indexes: https://pypi.org/simple, https://download.pytorch.org/whl/cu117"
     ]
    },
    {
     "name": "stderr",
     "output_type": "stream",
     "text": [
      "WARNING: Ignoring invalid distribution -atplotlib (d:\\software\\anaconda\\lib\\site-packages)\n",
      "WARNING: Ignoring invalid distribution -atplotlib (d:\\software\\anaconda\\lib\\site-packages)\n",
      "WARNING: Ignoring invalid distribution -atplotlib (d:\\software\\anaconda\\lib\\site-packages)\n",
      "WARNING: Ignoring invalid distribution -atplotlib (d:\\software\\anaconda\\lib\\site-packages)\n",
      "WARNING: Ignoring invalid distribution -atplotlib (d:\\software\\anaconda\\lib\\site-packages)\n",
      "WARNING: Ignoring invalid distribution -atplotlib (d:\\software\\anaconda\\lib\\site-packages)\n",
      "WARNING: Ignoring invalid distribution -atplotlib (d:\\software\\anaconda\\lib\\site-packages)\n",
      "WARNING: Ignoring invalid distribution -atplotlib (d:\\software\\anaconda\\lib\\site-packages)\n",
      "WARNING: Ignoring invalid distribution -atplotlib (d:\\software\\anaconda\\lib\\site-packages)\n"
     ]
    },
    {
     "name": "stdout",
     "output_type": "stream",
     "text": [
      "\n",
      "Collecting torch\n",
      "  Downloading https://download.pytorch.org/whl/cu117/torch-1.13.1%2Bcu117-cp39-cp39-win_amd64.whl (2255.6 MB)\n",
      "Collecting torchvision\n",
      "  Downloading https://download.pytorch.org/whl/cu117/torchvision-0.14.1%2Bcu117-cp39-cp39-win_amd64.whl (4.8 MB)\n",
      "Collecting torchaudio\n",
      "  Downloading https://download.pytorch.org/whl/cu117/torchaudio-0.13.1%2Bcu117-cp39-cp39-win_amd64.whl (2.3 MB)\n",
      "Requirement already satisfied: typing-extensions in d:\\software\\anaconda\\lib\\site-packages (from torch) (4.5.0)\n",
      "Requirement already satisfied: requests in d:\\software\\anaconda\\lib\\site-packages (from torchvision) (2.27.1)\n",
      "Requirement already satisfied: numpy in d:\\software\\anaconda\\lib\\site-packages (from torchvision) (1.22.4)\n",
      "Requirement already satisfied: pillow!=8.3.*,>=5.3.0 in d:\\software\\anaconda\\lib\\site-packages (from torchvision) (9.0.1)\n",
      "Requirement already satisfied: certifi>=2017.4.17 in d:\\software\\anaconda\\lib\\site-packages (from requests->torchvision) (2021.10.8)\n",
      "Requirement already satisfied: idna<4,>=2.5 in d:\\software\\anaconda\\lib\\site-packages (from requests->torchvision) (3.3)\n",
      "Requirement already satisfied: urllib3<1.27,>=1.21.1 in d:\\software\\anaconda\\lib\\site-packages (from requests->torchvision) (1.26.9)\n",
      "Requirement already satisfied: charset-normalizer~=2.0.0 in d:\\software\\anaconda\\lib\\site-packages (from requests->torchvision) (2.0.4)\n",
      "Installing collected packages: torch, torchvision, torchaudio\n",
      "Successfully installed torch-1.13.1+cu117 torchaudio-0.13.1+cu117 torchvision-0.14.1+cu117\n"
     ]
    }
   ],
   "source": [
    "!pip install torch torchvision torchaudio --extra-index-url https://download.pytorch.org/whl/cu117"
   ]
  },
  {
   "cell_type": "markdown",
   "id": "962d8b7f",
   "metadata": {},
   "source": [
    "## Import Packages and Load Data"
   ]
  },
  {
   "cell_type": "code",
   "execution_count": 1,
   "id": "7d910dc5",
   "metadata": {},
   "outputs": [],
   "source": [
    "# Necessary libraries\n",
    "import numpy as np\n",
    "import pandas as pd\n",
    "import matplotlib.pyplot as plt\n",
    "import seaborn as sns\n",
    "%matplotlib inline\n",
    "sns.set(font_scale=1.5, style = 'whitegrid', color_codes=True)\n",
    "\n",
    "import nltk\n",
    "#nltk.download('vader_lexicon')\n",
    "from nltk.sentiment.vader import SentimentIntensityAnalyzer\n",
    "from transformers import AutoModelForSequenceClassification\n",
    "from transformers import AutoTokenizer\n",
    "from scipy.special import softmax\n",
    "import torch\n",
    "\n",
    "import ast\n",
    "from datetime import datetime\n",
    "from tqdm import tqdm\n",
    "\n",
    "pd.set_option('max_colwidth', 200)\n",
    "pd.set_option('display.max_rows', 100)"
   ]
  },
  {
   "cell_type": "code",
   "execution_count": 2,
   "id": "f7760079",
   "metadata": {},
   "outputs": [],
   "source": [
    "df = pd.read_csv('Twitter_topics.csv')"
   ]
  },
  {
   "cell_type": "code",
   "execution_count": 3,
   "id": "419c6d34",
   "metadata": {},
   "outputs": [],
   "source": [
    "# convert the string of words in the 'Tweet_lemmatized' column to a list for each row in the dataframe\n",
    "df['Tokens'] = df['Tokens'].apply(lambda x: ast.literal_eval(x))"
   ]
  },
  {
   "cell_type": "code",
   "execution_count": 71,
   "id": "278dbc6c",
   "metadata": {},
   "outputs": [
    {
     "data": {
      "text/html": [
       "<div>\n",
       "<style scoped>\n",
       "    .dataframe tbody tr th:only-of-type {\n",
       "        vertical-align: middle;\n",
       "    }\n",
       "\n",
       "    .dataframe tbody tr th {\n",
       "        vertical-align: top;\n",
       "    }\n",
       "\n",
       "    .dataframe thead th {\n",
       "        text-align: right;\n",
       "    }\n",
       "</style>\n",
       "<table border=\"1\" class=\"dataframe\">\n",
       "  <thead>\n",
       "    <tr style=\"text-align: right;\">\n",
       "      <th></th>\n",
       "      <th>Tweet</th>\n",
       "      <th>Tokens</th>\n",
       "      <th>Date</th>\n",
       "      <th>Dominant_Topic</th>\n",
       "      <th>Contribution%</th>\n",
       "      <th>Topic_Name</th>\n",
       "    </tr>\n",
       "  </thead>\n",
       "  <tbody>\n",
       "    <tr>\n",
       "      <th>0</th>\n",
       "      <td>ChatGPT is basically the best unpaid intern to ever exist.</td>\n",
       "      <td>[chatgpt, basically, best, unpaid, intern, ever, exist]</td>\n",
       "      <td>2023-01-30</td>\n",
       "      <td>8</td>\n",
       "      <td>87.12</td>\n",
       "      <td>Impacts on Work and Efficiency</td>\n",
       "    </tr>\n",
       "    <tr>\n",
       "      <th>1</th>\n",
       "      <td>@jeffersonmorley @ChatGPT @OpenAI It pulled this on me though:  https://t.co/OMch7NmUXp</td>\n",
       "      <td>[pull, though]</td>\n",
       "      <td>2023-01-30</td>\n",
       "      <td>5</td>\n",
       "      <td>69.99</td>\n",
       "      <td>ChatGTP's Issues and Reliability</td>\n",
       "    </tr>\n",
       "    <tr>\n",
       "      <th>2</th>\n",
       "      <td>#ChatGPT is down for me since yesterday. Is it only for me?</td>\n",
       "      <td>[chatgpt, since, yesterday]</td>\n",
       "      <td>2023-01-30</td>\n",
       "      <td>8</td>\n",
       "      <td>69.99</td>\n",
       "      <td>Impacts on Work and Efficiency</td>\n",
       "    </tr>\n",
       "    <tr>\n",
       "      <th>3</th>\n",
       "      <td>@GalorOded ChatGPT is literally the marriage of MadLibs to Monte Carlo.\\nAutomated generation of bullshit is hardly revolutionary — every economics department has a library of working papers that ...</td>\n",
       "      <td>[chatgpt, literally, marriage, madlibs, monte, carlo, automate, generation, bullshit, hardly, revolutionary, every, economics, department, library, work, paper, put, chatgpt, shame, specialties, w...</td>\n",
       "      <td>2023-01-30</td>\n",
       "      <td>6</td>\n",
       "      <td>26.16</td>\n",
       "      <td>Developments and Milestones of ChatGPT</td>\n",
       "    </tr>\n",
       "    <tr>\n",
       "      <th>4</th>\n",
       "      <td>ChatGPT Is Making Universities Rethink Plagiarism : #analytics #googleads #facebookads https://t.co/rmIOAn2A0U</td>\n",
       "      <td>[chatgpt, make, university, rethink, plagiarism, analytics_googleads_facebookads]</td>\n",
       "      <td>2023-01-30</td>\n",
       "      <td>9</td>\n",
       "      <td>63.11</td>\n",
       "      <td>Impacts on Education and Academy</td>\n",
       "    </tr>\n",
       "  </tbody>\n",
       "</table>\n",
       "</div>"
      ],
      "text/plain": [
       "                                                                                                                                                                                                     Tweet  \\\n",
       "0                                                                                                                                               ChatGPT is basically the best unpaid intern to ever exist.   \n",
       "1                                                                                                                  @jeffersonmorley @ChatGPT @OpenAI It pulled this on me though:  https://t.co/OMch7NmUXp   \n",
       "2                                                                                                                                              #ChatGPT is down for me since yesterday. Is it only for me?   \n",
       "3  @GalorOded ChatGPT is literally the marriage of MadLibs to Monte Carlo.\\nAutomated generation of bullshit is hardly revolutionary — every economics department has a library of working papers that ...   \n",
       "4                                                                                           ChatGPT Is Making Universities Rethink Plagiarism : #analytics #googleads #facebookads https://t.co/rmIOAn2A0U   \n",
       "\n",
       "                                                                                                                                                                                                    Tokens  \\\n",
       "0                                                                                                                                                  [chatgpt, basically, best, unpaid, intern, ever, exist]   \n",
       "1                                                                                                                                                                                           [pull, though]   \n",
       "2                                                                                                                                                                              [chatgpt, since, yesterday]   \n",
       "3  [chatgpt, literally, marriage, madlibs, monte, carlo, automate, generation, bullshit, hardly, revolutionary, every, economics, department, library, work, paper, put, chatgpt, shame, specialties, w...   \n",
       "4                                                                                                                        [chatgpt, make, university, rethink, plagiarism, analytics_googleads_facebookads]   \n",
       "\n",
       "         Date  Dominant_Topic  Contribution%  \\\n",
       "0  2023-01-30               8          87.12   \n",
       "1  2023-01-30               5          69.99   \n",
       "2  2023-01-30               8          69.99   \n",
       "3  2023-01-30               6          26.16   \n",
       "4  2023-01-30               9          63.11   \n",
       "\n",
       "                               Topic_Name  \n",
       "0          Impacts on Work and Efficiency  \n",
       "1        ChatGTP's Issues and Reliability  \n",
       "2          Impacts on Work and Efficiency  \n",
       "3  Developments and Milestones of ChatGPT  \n",
       "4        Impacts on Education and Academy  "
      ]
     },
     "execution_count": 71,
     "metadata": {},
     "output_type": "execute_result"
    }
   ],
   "source": [
    "df.head()"
   ]
  },
  {
   "cell_type": "code",
   "execution_count": 5,
   "id": "445a186a",
   "metadata": {},
   "outputs": [],
   "source": [
    "df['Text'] = df['Tokens'].apply(lambda x: ' '.join(word for word in x))\n",
    "#get the week column from the date\n",
    "df['Date'] = pd.to_datetime(df['Date']) \n",
    "start_date = pd.to_datetime('2022-12-01')\n",
    "#create a list of date\n",
    "dates = pd.date_range(start=start_date, end='2023-01-31')\n",
    "#create a dictionary of date:week\n",
    "date_week = {}\n",
    "for date in dates:\n",
    "    week = date.isocalendar().week - start_date.isocalendar().week + 1\n",
    "    if week < 0:\n",
    "        week += 52\n",
    "    date_week[date] = week\n",
    "\n",
    "df[\"Week\"] = df['Date'].apply(lambda x: date_week[x])"
   ]
  },
  {
   "cell_type": "code",
   "execution_count": 16,
   "id": "e830797b",
   "metadata": {},
   "outputs": [
    {
     "data": {
      "text/html": [
       "<div>\n",
       "<style scoped>\n",
       "    .dataframe tbody tr th:only-of-type {\n",
       "        vertical-align: middle;\n",
       "    }\n",
       "\n",
       "    .dataframe tbody tr th {\n",
       "        vertical-align: top;\n",
       "    }\n",
       "\n",
       "    .dataframe thead th {\n",
       "        text-align: right;\n",
       "    }\n",
       "</style>\n",
       "<table border=\"1\" class=\"dataframe\">\n",
       "  <thead>\n",
       "    <tr style=\"text-align: right;\">\n",
       "      <th></th>\n",
       "      <th>Tweet</th>\n",
       "      <th>Tokens</th>\n",
       "      <th>Date</th>\n",
       "      <th>Dominant_Topic</th>\n",
       "      <th>Contribution%</th>\n",
       "      <th>Topic_Name</th>\n",
       "      <th>Text</th>\n",
       "      <th>Week</th>\n",
       "    </tr>\n",
       "  </thead>\n",
       "  <tbody>\n",
       "    <tr>\n",
       "      <th>0</th>\n",
       "      <td>ChatGPT is basically the best unpaid intern to ever exist.</td>\n",
       "      <td>[chatgpt, basically, best, unpaid, intern, ever, exist]</td>\n",
       "      <td>2023-01-30</td>\n",
       "      <td>8</td>\n",
       "      <td>87.12</td>\n",
       "      <td>Impacts on Work and Efficiency</td>\n",
       "      <td>chatgpt basically best unpaid intern ever exist</td>\n",
       "      <td>10</td>\n",
       "    </tr>\n",
       "    <tr>\n",
       "      <th>1</th>\n",
       "      <td>@jeffersonmorley @ChatGPT @OpenAI It pulled this on me though:  https://t.co/OMch7NmUXp</td>\n",
       "      <td>[pull, though]</td>\n",
       "      <td>2023-01-30</td>\n",
       "      <td>5</td>\n",
       "      <td>69.99</td>\n",
       "      <td>ChatGTP's Issues and Reliability</td>\n",
       "      <td>pull though</td>\n",
       "      <td>10</td>\n",
       "    </tr>\n",
       "    <tr>\n",
       "      <th>2</th>\n",
       "      <td>#ChatGPT is down for me since yesterday. Is it only for me?</td>\n",
       "      <td>[chatgpt, since, yesterday]</td>\n",
       "      <td>2023-01-30</td>\n",
       "      <td>8</td>\n",
       "      <td>69.99</td>\n",
       "      <td>Impacts on Work and Efficiency</td>\n",
       "      <td>chatgpt since yesterday</td>\n",
       "      <td>10</td>\n",
       "    </tr>\n",
       "    <tr>\n",
       "      <th>3</th>\n",
       "      <td>@GalorOded ChatGPT is literally the marriage of MadLibs to Monte Carlo.\\nAutomated generation of bullshit is hardly revolutionary — every economics department has a library of working papers that ...</td>\n",
       "      <td>[chatgpt, literally, marriage, madlibs, monte, carlo, automate, generation, bullshit, hardly, revolutionary, every, economics, department, library, work, paper, put, chatgpt, shame, specialties, w...</td>\n",
       "      <td>2023-01-30</td>\n",
       "      <td>6</td>\n",
       "      <td>26.16</td>\n",
       "      <td>Developments and Milestones of ChatGPT</td>\n",
       "      <td>chatgpt literally marriage madlibs monte carlo automate generation bullshit hardly revolutionary every economics department library work paper put chatgpt shame specialties welcome chime</td>\n",
       "      <td>10</td>\n",
       "    </tr>\n",
       "    <tr>\n",
       "      <th>4</th>\n",
       "      <td>ChatGPT Is Making Universities Rethink Plagiarism : #analytics #googleads #facebookads https://t.co/rmIOAn2A0U</td>\n",
       "      <td>[chatgpt, make, university, rethink, plagiarism, analytics_googleads_facebookads]</td>\n",
       "      <td>2023-01-30</td>\n",
       "      <td>9</td>\n",
       "      <td>63.11</td>\n",
       "      <td>Impacts on Education and Academy</td>\n",
       "      <td>chatgpt make university rethink plagiarism analytics_googleads_facebookads</td>\n",
       "      <td>10</td>\n",
       "    </tr>\n",
       "  </tbody>\n",
       "</table>\n",
       "</div>"
      ],
      "text/plain": [
       "                                                                                                                                                                                                     Tweet  \\\n",
       "0                                                                                                                                               ChatGPT is basically the best unpaid intern to ever exist.   \n",
       "1                                                                                                                  @jeffersonmorley @ChatGPT @OpenAI It pulled this on me though:  https://t.co/OMch7NmUXp   \n",
       "2                                                                                                                                              #ChatGPT is down for me since yesterday. Is it only for me?   \n",
       "3  @GalorOded ChatGPT is literally the marriage of MadLibs to Monte Carlo.\\nAutomated generation of bullshit is hardly revolutionary — every economics department has a library of working papers that ...   \n",
       "4                                                                                           ChatGPT Is Making Universities Rethink Plagiarism : #analytics #googleads #facebookads https://t.co/rmIOAn2A0U   \n",
       "\n",
       "                                                                                                                                                                                                    Tokens  \\\n",
       "0                                                                                                                                                  [chatgpt, basically, best, unpaid, intern, ever, exist]   \n",
       "1                                                                                                                                                                                           [pull, though]   \n",
       "2                                                                                                                                                                              [chatgpt, since, yesterday]   \n",
       "3  [chatgpt, literally, marriage, madlibs, monte, carlo, automate, generation, bullshit, hardly, revolutionary, every, economics, department, library, work, paper, put, chatgpt, shame, specialties, w...   \n",
       "4                                                                                                                        [chatgpt, make, university, rethink, plagiarism, analytics_googleads_facebookads]   \n",
       "\n",
       "        Date  Dominant_Topic  Contribution%  \\\n",
       "0 2023-01-30               8          87.12   \n",
       "1 2023-01-30               5          69.99   \n",
       "2 2023-01-30               8          69.99   \n",
       "3 2023-01-30               6          26.16   \n",
       "4 2023-01-30               9          63.11   \n",
       "\n",
       "                               Topic_Name  \\\n",
       "0          Impacts on Work and Efficiency   \n",
       "1        ChatGTP's Issues and Reliability   \n",
       "2          Impacts on Work and Efficiency   \n",
       "3  Developments and Milestones of ChatGPT   \n",
       "4        Impacts on Education and Academy   \n",
       "\n",
       "                                                                                                                                                                                         Text  \\\n",
       "0                                                                                                                                             chatgpt basically best unpaid intern ever exist   \n",
       "1                                                                                                                                                                                 pull though   \n",
       "2                                                                                                                                                                     chatgpt since yesterday   \n",
       "3  chatgpt literally marriage madlibs monte carlo automate generation bullshit hardly revolutionary every economics department library work paper put chatgpt shame specialties welcome chime   \n",
       "4                                                                                                                  chatgpt make university rethink plagiarism analytics_googleads_facebookads   \n",
       "\n",
       "   Week  \n",
       "0    10  \n",
       "1    10  \n",
       "2    10  \n",
       "3    10  \n",
       "4    10  "
      ]
     },
     "execution_count": 16,
     "metadata": {},
     "output_type": "execute_result"
    }
   ],
   "source": [
    "df.head()"
   ]
  },
  {
   "cell_type": "code",
   "execution_count": 17,
   "id": "98f683f0",
   "metadata": {
    "scrolled": true
   },
   "outputs": [
    {
     "data": {
      "text/html": [
       "<div>\n",
       "<style scoped>\n",
       "    .dataframe tbody tr th:only-of-type {\n",
       "        vertical-align: middle;\n",
       "    }\n",
       "\n",
       "    .dataframe tbody tr th {\n",
       "        vertical-align: top;\n",
       "    }\n",
       "\n",
       "    .dataframe thead th {\n",
       "        text-align: right;\n",
       "    }\n",
       "</style>\n",
       "<table border=\"1\" class=\"dataframe\">\n",
       "  <thead>\n",
       "    <tr style=\"text-align: right;\">\n",
       "      <th></th>\n",
       "      <th>Tweet</th>\n",
       "      <th>Text</th>\n",
       "      <th>Dominant_Topic</th>\n",
       "      <th>Topic_Name</th>\n",
       "      <th>Date</th>\n",
       "      <th>Week</th>\n",
       "    </tr>\n",
       "  </thead>\n",
       "  <tbody>\n",
       "    <tr>\n",
       "      <th>0</th>\n",
       "      <td>ChatGPT is basically the best unpaid intern to ever exist.</td>\n",
       "      <td>chatgpt basically best unpaid intern ever exist</td>\n",
       "      <td>8</td>\n",
       "      <td>Impacts on Work and Efficiency</td>\n",
       "      <td>2023-01-30</td>\n",
       "      <td>10</td>\n",
       "    </tr>\n",
       "    <tr>\n",
       "      <th>1</th>\n",
       "      <td>@jeffersonmorley @ChatGPT @OpenAI It pulled this on me though:  https://t.co/OMch7NmUXp</td>\n",
       "      <td>pull though</td>\n",
       "      <td>5</td>\n",
       "      <td>ChatGTP's Issues and Reliability</td>\n",
       "      <td>2023-01-30</td>\n",
       "      <td>10</td>\n",
       "    </tr>\n",
       "    <tr>\n",
       "      <th>2</th>\n",
       "      <td>#ChatGPT is down for me since yesterday. Is it only for me?</td>\n",
       "      <td>chatgpt since yesterday</td>\n",
       "      <td>8</td>\n",
       "      <td>Impacts on Work and Efficiency</td>\n",
       "      <td>2023-01-30</td>\n",
       "      <td>10</td>\n",
       "    </tr>\n",
       "    <tr>\n",
       "      <th>3</th>\n",
       "      <td>@GalorOded ChatGPT is literally the marriage of MadLibs to Monte Carlo.\\nAutomated generation of bullshit is hardly revolutionary — every economics department has a library of working papers that ...</td>\n",
       "      <td>chatgpt literally marriage madlibs monte carlo automate generation bullshit hardly revolutionary every economics department library work paper put chatgpt shame specialties welcome chime</td>\n",
       "      <td>6</td>\n",
       "      <td>Developments and Milestones of ChatGPT</td>\n",
       "      <td>2023-01-30</td>\n",
       "      <td>10</td>\n",
       "    </tr>\n",
       "    <tr>\n",
       "      <th>4</th>\n",
       "      <td>ChatGPT Is Making Universities Rethink Plagiarism : #analytics #googleads #facebookads https://t.co/rmIOAn2A0U</td>\n",
       "      <td>chatgpt make university rethink plagiarism analytics_googleads_facebookads</td>\n",
       "      <td>9</td>\n",
       "      <td>Impacts on Education and Academy</td>\n",
       "      <td>2023-01-30</td>\n",
       "      <td>10</td>\n",
       "    </tr>\n",
       "  </tbody>\n",
       "</table>\n",
       "</div>"
      ],
      "text/plain": [
       "                                                                                                                                                                                                     Tweet  \\\n",
       "0                                                                                                                                               ChatGPT is basically the best unpaid intern to ever exist.   \n",
       "1                                                                                                                  @jeffersonmorley @ChatGPT @OpenAI It pulled this on me though:  https://t.co/OMch7NmUXp   \n",
       "2                                                                                                                                              #ChatGPT is down for me since yesterday. Is it only for me?   \n",
       "3  @GalorOded ChatGPT is literally the marriage of MadLibs to Monte Carlo.\\nAutomated generation of bullshit is hardly revolutionary — every economics department has a library of working papers that ...   \n",
       "4                                                                                           ChatGPT Is Making Universities Rethink Plagiarism : #analytics #googleads #facebookads https://t.co/rmIOAn2A0U   \n",
       "\n",
       "                                                                                                                                                                                         Text  \\\n",
       "0                                                                                                                                             chatgpt basically best unpaid intern ever exist   \n",
       "1                                                                                                                                                                                 pull though   \n",
       "2                                                                                                                                                                     chatgpt since yesterday   \n",
       "3  chatgpt literally marriage madlibs monte carlo automate generation bullshit hardly revolutionary every economics department library work paper put chatgpt shame specialties welcome chime   \n",
       "4                                                                                                                  chatgpt make university rethink plagiarism analytics_googleads_facebookads   \n",
       "\n",
       "   Dominant_Topic                              Topic_Name       Date  Week  \n",
       "0               8          Impacts on Work and Efficiency 2023-01-30    10  \n",
       "1               5        ChatGTP's Issues and Reliability 2023-01-30    10  \n",
       "2               8          Impacts on Work and Efficiency 2023-01-30    10  \n",
       "3               6  Developments and Milestones of ChatGPT 2023-01-30    10  \n",
       "4               9        Impacts on Education and Academy 2023-01-30    10  "
      ]
     },
     "execution_count": 17,
     "metadata": {},
     "output_type": "execute_result"
    }
   ],
   "source": [
    "#only save the columns that we need for sentiment analysis\n",
    "df_s = df[['Tweet', 'Text', 'Dominant_Topic', 'Topic_Name', 'Date', 'Week']].copy()\n",
    "# drop date column\n",
    "df_s.head()"
   ]
  },
  {
   "cell_type": "markdown",
   "id": "9ed43b5e",
   "metadata": {},
   "source": [
    "## VADER Model Implementation"
   ]
  },
  {
   "cell_type": "code",
   "execution_count": 23,
   "id": "3574e72a",
   "metadata": {},
   "outputs": [
    {
     "name": "stdout",
     "output_type": "stream",
     "text": [
      "CPU times: total: 1min 11s\n",
      "Wall time: 1min 24s\n"
     ]
    }
   ],
   "source": [
    "%%time\n",
    "#Initialize the vader sentiment analyser\n",
    "vader_model = SentimentIntensityAnalyzer()\n",
    "#apply VADER model to the dataset\n",
    "df_s['VADER_Scores'] = df_s['Text'].apply(lambda x: vader_model.polarity_scores(x))"
   ]
  },
  {
   "cell_type": "code",
   "execution_count": 24,
   "id": "4c1de1f9",
   "metadata": {},
   "outputs": [],
   "source": [
    "#VADER returned the scores as a dictionary\n",
    "#get the compound score as the polarity score\n",
    "df_s['VADER_Polarity'] = df_s['VADER_Scores'].apply(lambda x: x['compound'])\n",
    "\n",
    "#Assign labels for each tweet, depending on the polarity.\n",
    "#Sentiment labels are assigned according to the polarity score: \n",
    "'''\n",
    "-1 to -0.25 => negative; \n",
    "-0.25 and 0.25 => neutral; \n",
    "0.25 to 1 => positive;\n",
    "'''\n",
    "df_s['VADER_Sentiment'] = pd.cut(df_s['VADER_Polarity'],\n",
    "                                bins = [-1, -0.25, 0.25, 1],\n",
    "                                labels=['Negative', 'Neutral', 'Positive'])"
   ]
  },
  {
   "cell_type": "code",
   "execution_count": 25,
   "id": "759a7f09",
   "metadata": {},
   "outputs": [],
   "source": [
    "df_s.drop(['VADER_Scores'], axis=1, inplace = True)"
   ]
  },
  {
   "cell_type": "code",
   "execution_count": 26,
   "id": "224a0072",
   "metadata": {},
   "outputs": [
    {
     "data": {
      "text/html": [
       "<div>\n",
       "<style scoped>\n",
       "    .dataframe tbody tr th:only-of-type {\n",
       "        vertical-align: middle;\n",
       "    }\n",
       "\n",
       "    .dataframe tbody tr th {\n",
       "        vertical-align: top;\n",
       "    }\n",
       "\n",
       "    .dataframe thead th {\n",
       "        text-align: right;\n",
       "    }\n",
       "</style>\n",
       "<table border=\"1\" class=\"dataframe\">\n",
       "  <thead>\n",
       "    <tr style=\"text-align: right;\">\n",
       "      <th></th>\n",
       "      <th>Tweet</th>\n",
       "      <th>Text</th>\n",
       "      <th>Dominant_Topic</th>\n",
       "      <th>Topic_Name</th>\n",
       "      <th>Date</th>\n",
       "      <th>Week</th>\n",
       "      <th>VADER_Polarity</th>\n",
       "      <th>VADER_Sentiment</th>\n",
       "    </tr>\n",
       "  </thead>\n",
       "  <tbody>\n",
       "    <tr>\n",
       "      <th>0</th>\n",
       "      <td>ChatGPT is basically the best unpaid intern to ever exist.</td>\n",
       "      <td>chatgpt basically best unpaid intern ever exist</td>\n",
       "      <td>8</td>\n",
       "      <td>Impacts on Work and Efficiency</td>\n",
       "      <td>2023-01-30</td>\n",
       "      <td>10</td>\n",
       "      <td>0.6369</td>\n",
       "      <td>Positive</td>\n",
       "    </tr>\n",
       "    <tr>\n",
       "      <th>1</th>\n",
       "      <td>@jeffersonmorley @ChatGPT @OpenAI It pulled this on me though:  https://t.co/OMch7NmUXp</td>\n",
       "      <td>pull though</td>\n",
       "      <td>5</td>\n",
       "      <td>ChatGTP's Issues and Reliability</td>\n",
       "      <td>2023-01-30</td>\n",
       "      <td>10</td>\n",
       "      <td>0.0000</td>\n",
       "      <td>Neutral</td>\n",
       "    </tr>\n",
       "    <tr>\n",
       "      <th>2</th>\n",
       "      <td>#ChatGPT is down for me since yesterday. Is it only for me?</td>\n",
       "      <td>chatgpt since yesterday</td>\n",
       "      <td>8</td>\n",
       "      <td>Impacts on Work and Efficiency</td>\n",
       "      <td>2023-01-30</td>\n",
       "      <td>10</td>\n",
       "      <td>0.0000</td>\n",
       "      <td>Neutral</td>\n",
       "    </tr>\n",
       "    <tr>\n",
       "      <th>3</th>\n",
       "      <td>@GalorOded ChatGPT is literally the marriage of MadLibs to Monte Carlo.\\nAutomated generation of bullshit is hardly revolutionary — every economics department has a library of working papers that ...</td>\n",
       "      <td>chatgpt literally marriage madlibs monte carlo automate generation bullshit hardly revolutionary every economics department library work paper put chatgpt shame specialties welcome chime</td>\n",
       "      <td>6</td>\n",
       "      <td>Developments and Milestones of ChatGPT</td>\n",
       "      <td>2023-01-30</td>\n",
       "      <td>10</td>\n",
       "      <td>-0.5994</td>\n",
       "      <td>Negative</td>\n",
       "    </tr>\n",
       "    <tr>\n",
       "      <th>4</th>\n",
       "      <td>ChatGPT Is Making Universities Rethink Plagiarism : #analytics #googleads #facebookads https://t.co/rmIOAn2A0U</td>\n",
       "      <td>chatgpt make university rethink plagiarism analytics_googleads_facebookads</td>\n",
       "      <td>9</td>\n",
       "      <td>Impacts on Education and Academy</td>\n",
       "      <td>2023-01-30</td>\n",
       "      <td>10</td>\n",
       "      <td>0.0000</td>\n",
       "      <td>Neutral</td>\n",
       "    </tr>\n",
       "  </tbody>\n",
       "</table>\n",
       "</div>"
      ],
      "text/plain": [
       "                                                                                                                                                                                                     Tweet  \\\n",
       "0                                                                                                                                               ChatGPT is basically the best unpaid intern to ever exist.   \n",
       "1                                                                                                                  @jeffersonmorley @ChatGPT @OpenAI It pulled this on me though:  https://t.co/OMch7NmUXp   \n",
       "2                                                                                                                                              #ChatGPT is down for me since yesterday. Is it only for me?   \n",
       "3  @GalorOded ChatGPT is literally the marriage of MadLibs to Monte Carlo.\\nAutomated generation of bullshit is hardly revolutionary — every economics department has a library of working papers that ...   \n",
       "4                                                                                           ChatGPT Is Making Universities Rethink Plagiarism : #analytics #googleads #facebookads https://t.co/rmIOAn2A0U   \n",
       "\n",
       "                                                                                                                                                                                         Text  \\\n",
       "0                                                                                                                                             chatgpt basically best unpaid intern ever exist   \n",
       "1                                                                                                                                                                                 pull though   \n",
       "2                                                                                                                                                                     chatgpt since yesterday   \n",
       "3  chatgpt literally marriage madlibs monte carlo automate generation bullshit hardly revolutionary every economics department library work paper put chatgpt shame specialties welcome chime   \n",
       "4                                                                                                                  chatgpt make university rethink plagiarism analytics_googleads_facebookads   \n",
       "\n",
       "   Dominant_Topic                              Topic_Name       Date  Week  \\\n",
       "0               8          Impacts on Work and Efficiency 2023-01-30    10   \n",
       "1               5        ChatGTP's Issues and Reliability 2023-01-30    10   \n",
       "2               8          Impacts on Work and Efficiency 2023-01-30    10   \n",
       "3               6  Developments and Milestones of ChatGPT 2023-01-30    10   \n",
       "4               9        Impacts on Education and Academy 2023-01-30    10   \n",
       "\n",
       "   VADER_Polarity VADER_Sentiment  \n",
       "0          0.6369        Positive  \n",
       "1          0.0000         Neutral  \n",
       "2          0.0000         Neutral  \n",
       "3         -0.5994        Negative  \n",
       "4          0.0000         Neutral  "
      ]
     },
     "execution_count": 26,
     "metadata": {},
     "output_type": "execute_result"
    }
   ],
   "source": [
    "df_s.head()"
   ]
  },
  {
   "cell_type": "code",
   "execution_count": 28,
   "id": "1f1bceed",
   "metadata": {},
   "outputs": [
    {
     "data": {
      "image/png": "[encoded data removed]",
      "text/plain": [
       "<Figure size 576x432 with 1 Axes>"
      ]
     },
     "metadata": {},
     "output_type": "display_data"
    }
   ],
   "source": [
    "sns.set_palette('PuBuGn')\n",
    "fig,ax=plt.subplots(1,1,figsize=(8,6))\n",
    "pie = df_s['VADER_Sentiment'].value_counts()\n",
    "plt.pie(pie, autopct=\"%.1f%%\", pctdistance=1.1)\n",
    "ax.legend(labels = pie.index, \n",
    "          bbox_to_anchor=[1,1])\n",
    "ax.set_title('Sentiment of Tweets about ChatGPT')\n",
    "plt.tight_layout()\n",
    "plt.show()"
   ]
  },
  {
   "cell_type": "markdown",
   "id": "cf709792",
   "metadata": {},
   "source": [
    "## roBERTa Model"
   ]
  },
  {
   "cell_type": "code",
   "execution_count": 4,
   "id": "d8faae23",
   "metadata": {},
   "outputs": [
    {
     "name": "stderr",
     "output_type": "stream",
     "text": [
      "Some weights of the model checkpoint at cardiffnlp/twitter-roberta-base-sentiment-latest were not used when initializing RobertaForSequenceClassification: ['roberta.pooler.dense.weight', 'roberta.pooler.dense.bias']\n",
      "- This IS expected if you are initializing RobertaForSequenceClassification from the checkpoint of a model trained on another task or with another architecture (e.g. initializing a BertForSequenceClassification model from a BertForPreTraining model).\n",
      "- This IS NOT expected if you are initializing RobertaForSequenceClassification from the checkpoint of a model that you expect to be exactly identical (initializing a BertForSequenceClassification model from a BertForSequenceClassification model).\n"
     ]
    }
   ],
   "source": [
    "#load the model and tokenizer\n",
    "\n",
    "model_path = \"cardiffnlp/twitter-roberta-base-sentiment-latest\"\n",
    "tokenizer = AutoTokenizer.from_pretrained(model_path)\n",
    "roberta_model = AutoModelForSequenceClassification.from_pretrained(model_path)"
   ]
  },
  {
   "cell_type": "code",
   "execution_count": 203,
   "id": "521066d0",
   "metadata": {},
   "outputs": [],
   "source": [
    "# function that takes text and model to calculate the probability of each sentiment\n",
    "def sentiment_analyzer(tweet,model):\n",
    "    #return the output of PyTorch tensors\n",
    "    encoded_tweet = tokenizer(tweet, return_tensors='pt')   \n",
    "    \n",
    "    #calculate the sentiment\n",
    "    output = model(**encoded_tweet)           \n",
    "    \n",
    "    #returning a NumPy array containing the embeddings of scores\n",
    "    scores = output[0][0].detach().numpy()\n",
    "    #normalize the scores to probability\n",
    "    probability = np.round(softmax(scores),3)\n",
    "\n",
    "    #calculate the polarity by multiply each probability to its weight(Negative:-1, Neutral:0, Positive:1)\n",
    "    #define weight vector\n",
    "    polarity_weights = torch.tensor([-1, 0, 1])\n",
    "    \n",
    "    #construct the tensor of probability\n",
    "    probability = torch.tensor(probability)\n",
    "    \n",
    "    #calculate the polartiy score\n",
    "    polarity = polarity_weights*probability\n",
    "    \n",
    "    # sum the weighted probabilities along the last dimension\n",
    "    polarity = polarity.sum(dim=-1)\n",
    "    \n",
    "    #Scale polarity score to range [-1, 1]\n",
    "    polarity_scaled = torch.nn.Tanh()(polarity)\n",
    "    \n",
    "    return round(polarity_scaled.item(),4)   "
   ]
  },
  {
   "cell_type": "code",
   "execution_count": 192,
   "id": "83a492a4",
   "metadata": {},
   "outputs": [],
   "source": [
    "df_=df_s[0:1000].copy()"
   ]
  },
  {
   "cell_type": "code",
   "execution_count": 193,
   "id": "038e3827",
   "metadata": {},
   "outputs": [
    {
     "name": "stdout",
     "output_type": "stream",
     "text": [
      "CPU times: total: 3min 53s\n",
      "Wall time: 51.3 s\n"
     ]
    }
   ],
   "source": [
    "%%time\n",
    "df_['Polarity']=df_['Text'].apply(lambda x: sentiment_analyzer(x,roberta_model))"
   ]
  },
  {
   "cell_type": "code",
   "execution_count": 257,
   "id": "1c6172f1",
   "metadata": {},
   "outputs": [
    {
     "data": {
      "text/plain": [
       "-0.1479"
      ]
     },
     "execution_count": 257,
     "metadata": {},
     "output_type": "execute_result"
    }
   ],
   "source": [
    "sentiment_analyzer(df_s['Text'][49],roberta_model)"
   ]
  },
  {
   "cell_type": "code",
   "execution_count": 128,
   "id": "48db6f58",
   "metadata": {},
   "outputs": [],
   "source": [
    "#as the roBERTa running will be quite long, will split the dataframe into chunks of 20k tweets each\n",
    "n = 20000  #chunk row size\n",
    "list_df = [df_s[i:i+n] for i in range(0,df_s.shape[0],n)]"
   ]
  },
  {
   "cell_type": "code",
   "execution_count": 243,
   "id": "c0b35ab8",
   "metadata": {},
   "outputs": [],
   "source": [
    "list_df_2=[df_s[i:i+n].copy() for i in range(0,df_s.shape[0],n)]"
   ]
  },
  {
   "cell_type": "code",
   "execution_count": 129,
   "id": "fb8cceaa",
   "metadata": {},
   "outputs": [
    {
     "data": {
      "text/plain": [
       "42"
      ]
     },
     "execution_count": 129,
     "metadata": {},
     "output_type": "execute_result"
    }
   ],
   "source": [
    "len(list_df)"
   ]
  },
  {
   "cell_type": "code",
   "execution_count": 136,
   "id": "c0fa684b",
   "metadata": {},
   "outputs": [
    {
     "name": "stdout",
     "output_type": "stream",
     "text": [
      "(20000, 8)\n",
      "(12924, 8)\n"
     ]
    }
   ],
   "source": [
    "for df in list_df[40:]:\n",
    "    print(df.shape)"
   ]
  },
  {
   "cell_type": "code",
   "execution_count": null,
   "id": "18f8d0be",
   "metadata": {},
   "outputs": [],
   "source": [
    "# the dataframe has been splitted into 41 groups with 20000 tweets and an extra one with the remainder (12924 tweets)\n",
    "# will run the analysis over each one separately and then store in a csv file in case it crahses instead of redoing it again.\n",
    "i = 8\n",
    "for df in list_df_2[8:]:\n",
    "    i = i+1\n",
    "    df['ROBERTA_Polarity'] = df['Tweet'].apply(lambda x: sentiment_analyzer(x,roberta_model))\n",
    "    df.to_csv(f'roberta_temp/chunk_{i}.csv')"
   ]
  },
  {
   "cell_type": "code",
   "execution_count": 46,
   "id": "760b7699",
   "metadata": {},
   "outputs": [],
   "source": [
    "import glob   \n",
    "#list all cvs file into a list\n",
    "cvs_list = glob.glob('roberta_temp/*.{}'.format(csv))\n",
    "\n",
    "#concat all csv files into one dataframe\n",
    "df_sentiment = pd.concat([pd.read_csv(file) for file in cvs_list])"
   ]
  }
 ],
 "metadata": {
  "kernelspec": {
   "display_name": "Python 3 (ipykernel)",
   "language": "python",
   "name": "python3"
  },
  "language_info": {
   "codemirror_mode": {
    "name": "ipython",
    "version": 3
   },
   "file_extension": ".py",
   "mimetype": "text/x-python",
   "name": "python",
   "nbconvert_exporter": "python",
   "pygments_lexer": "ipython3",
   "version": "3.9.12"
  }
 },
 "nbformat": 4,
 "nbformat_minor": 5
}
